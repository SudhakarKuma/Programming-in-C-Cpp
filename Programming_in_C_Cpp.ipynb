{
  "nbformat": 4,
  "nbformat_minor": 0,
  "metadata": {
    "colab": {
      "name": "Programming_in_C_Cpp.ipynb",
      "provenance": [],
      "collapsed_sections": [],
      "authorship_tag": "ABX9TyPhVx+GEADIfjzs/eJC0tAs",
      "include_colab_link": true
    },
    "kernelspec": {
      "name": "python3",
      "display_name": "Python 3"
    }
  },
  "cells": [
    {
      "cell_type": "markdown",
      "metadata": {
        "id": "view-in-github",
        "colab_type": "text"
      },
      "source": [
        "<a href=\"https://colab.research.google.com/github/SudhakarKuma/Programming-in-C-Cpp/blob/master/Programming_in_C_Cpp.ipynb\" target=\"_parent\"><img src=\"https://colab.research.google.com/assets/colab-badge.svg\" alt=\"Open In Colab\"/></a>"
      ]
    },
    {
      "cell_type": "markdown",
      "metadata": {
        "id": "j0ZFg2C27F4i"
      },
      "source": [
        "# Programming in C / C++  "
      ]
    },
    {
      "cell_type": "markdown",
      "metadata": {
        "id": "1wnnKvCD-cRf"
      },
      "source": [
        "## Arrays"
      ]
    },
    {
      "cell_type": "markdown",
      "metadata": {
        "id": "f85vjrri-d2i"
      },
      "source": [
        "An array in C or C++ is a collection of items stored at contiguous memory locations and elements can be accessed randomly using indices of an array. They are used to store similar type of elements as in the data type must be the same for all elements. They can be used to store collection of primitive data types such as `int`, `float`, `double`, `char`, etc of any particular type. To add to it, an array in C or C++ can store derived data types such as the structures, pointers etc. For more details, click https://www.geeksforgeeks.org/arrays-in-c-cpp/ \n",
        "\n",
        "There are various ways (as shown below) in which we can declare an array. \n",
        "\n",
        "![array-declaration](https://media.geeksforgeeks.org/wp-content/cdn-uploads/Array-Declaration-In-C.png)\n",
        "\n",
        "\n",
        "In C, when we pass an array to a function say `fun()`, it is always treated as a pointer by `fun()`. Below example demonstrates the same."
      ]
    },
    {
      "cell_type": "code",
      "metadata": {
        "id": "zO1eWohBAdZm",
        "outputId": "6f24014f-965e-4d33-b6fe-9113d2ac570a",
        "colab": {
          "base_uri": "https://localhost:8080/",
          "height": 35
        }
      },
      "source": [
        "%%writefile arrayPass.c\n",
        "#include <stdio.h>\n",
        "\n",
        "void fun(int arr[]){\n",
        "    unsigned int n = sizeof(arr)/sizeof(arr[0]); // sizeof(arr) = 8, sizeof(arr[0]) = 4\n",
        "    printf(\"Array size inside fun() is %d\\n\", n); \n",
        "}\n",
        "\n",
        "int main(){\n",
        "    int arr[] = {1, 2, 3, 4, 5, 6, 7, 8}; \n",
        "    unsigned int n = sizeof(arr)/sizeof(arr[0]); // sizeof(arr) = 32, sizeof(arr[0]) = 4\n",
        "    printf(\"Array size inside main() is %d\\n\", n); \n",
        "    fun(arr); \n",
        "    return 0; \n",
        "}"
      ],
      "execution_count": 1,
      "outputs": [
        {
          "output_type": "stream",
          "text": [
            "Overwriting arrayPass.c\n"
          ],
          "name": "stdout"
        }
      ]
    },
    {
      "cell_type": "code",
      "metadata": {
        "id": "rwb0JKPaAzB0",
        "outputId": "0b7786bd-cdc8-4f08-ab64-8feec136a2c4",
        "colab": {
          "base_uri": "https://localhost:8080/",
          "height": 179
        }
      },
      "source": [
        "%%script bash\n",
        "gcc arrayPass.c -o arrayPass\n",
        "./arrayPass"
      ],
      "execution_count": 2,
      "outputs": [
        {
          "output_type": "stream",
          "text": [
            "Array size inside main() is 8\n",
            "Array size inside fun() is 2\n"
          ],
          "name": "stdout"
        },
        {
          "output_type": "stream",
          "text": [
            "arrayPass.c: In function ‘fun’:\n",
            "arrayPass.c:4:28: warning: ‘sizeof’ on array function parameter ‘arr’ will return size of ‘int *’ [-Wsizeof-array-argument]\n",
            "     unsigned int n = sizeof(arr)/sizeof(arr[0]); // sizeof(arr) = 8, sizeof(arr[0]) = 4\n",
            "                            ^\n",
            "arrayPass.c:3:14: note: declared here\n",
            " void fun(int arr[]){\n",
            "              ^~~\n"
          ],
          "name": "stderr"
        }
      ]
    },
    {
      "cell_type": "markdown",
      "metadata": {
        "id": "2d9lPwrKC3Cs"
      },
      "source": [
        "According to the C language syntax, an array can only be passed by reference, not by value. \n"
      ]
    },
    {
      "cell_type": "markdown",
      "metadata": {
        "id": "9MMp2PzLOdQ8"
      },
      "source": [
        "## Pointers "
      ]
    },
    {
      "cell_type": "markdown",
      "metadata": {
        "id": "vsclcwbVOgKL"
      },
      "source": [
        "* A pointer is a variable whose value is the address of another variable, i.e., direct address of the memory location. \n",
        "\n",
        "* Array declarations are pointer declarations. Therefore, the following are valid pointer declarations:\n",
        " * `char a[10];`\n",
        " * `char a[] = {'1', '2', '3', '4};`\n",
        " * `char *str;`\n",
        "\n",
        " whereas, `char a;` is not a valid pointer declaration. \n",
        "\n",
        "* Why do pointers take up 8 bytes on 64-bit computers? The 8-byte count taken up by pointers is crucially exclusive to 64-bit machines, and for a reason - 8 bytes is the largest possible address size available on that architecture. Since one byte is equal to eight bits, 64 bits / 8 = 8 represents the size of a pointer. On 32-bit machines, pointers correspondingly take up 32 bits / 8 = 4 bytes. For details, click https://www.holbertonschool.com/coding-resource-pointers-in-c \n",
        "\n",
        "* We can use a pointer to point to an array, and then we can use that pointer to access the array elements, as shown in the code below. For example, \n",
        " * `char **apple` denotes that `apple` is a pointer to a pointer to `char`. \n",
        " * `char *apple[]` denotes that `apple` is an array of pointer to `char`\n",
        " * `char apple[][]` denotes that `apple` is an array of array of `char`."
      ]
    },
    {
      "cell_type": "code",
      "metadata": {
        "id": "TKskaDGvGoWY",
        "outputId": "ec04e629-1891-4f73-9fda-5745de63d633",
        "colab": {
          "base_uri": "https://localhost:8080/",
          "height": 35
        }
      },
      "source": [
        "%%writefile ptrArr.c\n",
        "#include <stdio.h>\n",
        "\n",
        "int main() {\n",
        "     char a[]=\"Add\";\n",
        "     int *j;\n",
        "     j = &a;\n",
        "     printf(\"%c\\n\",*j+2);\n",
        "     return 0;\n",
        "}"
      ],
      "execution_count": 3,
      "outputs": [
        {
          "output_type": "stream",
          "text": [
            "Overwriting ptrArr.c\n"
          ],
          "name": "stdout"
        }
      ]
    },
    {
      "cell_type": "code",
      "metadata": {
        "id": "-xK0P1urG2CE",
        "outputId": "986ebe2d-60d7-403d-e65d-3bb606259573",
        "colab": {
          "base_uri": "https://localhost:8080/",
          "height": 107
        }
      },
      "source": [
        "%%script bash\n",
        "gcc ptrArr.c -o ptrArr\n",
        "./ptrArr"
      ],
      "execution_count": 4,
      "outputs": [
        {
          "output_type": "stream",
          "text": [
            "C\n"
          ],
          "name": "stdout"
        },
        {
          "output_type": "stream",
          "text": [
            "ptrArr.c: In function ‘main’:\n",
            "ptrArr.c:6:8: warning: assignment from incompatible pointer type [-Wincompatible-pointer-types]\n",
            "      j = &a;\n",
            "        ^\n"
          ],
          "name": "stderr"
        }
      ]
    },
    {
      "cell_type": "markdown",
      "metadata": {
        "id": "7JSO1L6sHYuh"
      },
      "source": [
        "In the above-mentioned code, the base address of array `a` is assigned to the integer pointer `j`. `*j` denotes value at the base address of `j` i.e the first character of string `a` i.e `A`. Since, the ASCII integer value of `A` is 65, the format specifier `%c` in the `printf()` function prints the ASCII character equivalent of 67  (65+2) i.e `C`."
      ]
    },
    {
      "cell_type": "markdown",
      "metadata": {
        "id": "Rhn49XIzgIaE"
      },
      "source": [
        "**Pointer Arithmetic**: A pointer in C is an address, which is a numeric value. Therefore, we can perform arithmetic operations on a pointer just as we can on a numeric value, as shown in the code below. "
      ]
    },
    {
      "cell_type": "code",
      "metadata": {
        "id": "0pQjJ7RAgiJx",
        "outputId": "f54cb876-0839-458a-dd76-48eed9ae9c86",
        "colab": {
          "base_uri": "https://localhost:8080/",
          "height": 35
        }
      },
      "source": [
        "%%writefile ptrArith.c\n",
        "#include <stdio.h>\n",
        "\n",
        "int main() {\n",
        "    int arr[]={10,20,30,40,50};\n",
        "    int i, *k;\n",
        "    k = &arr[4]-4;\n",
        "    for(i=0; i<=4; i++) {\n",
        "        printf(\"%d,\",*k);\n",
        "        k++;\n",
        "    }\n",
        "}"
      ],
      "execution_count": 5,
      "outputs": [
        {
          "output_type": "stream",
          "text": [
            "Overwriting ptrArith.c\n"
          ],
          "name": "stdout"
        }
      ]
    },
    {
      "cell_type": "code",
      "metadata": {
        "id": "U1FquWAkg7ZO",
        "outputId": "85d4edbd-4b1f-42c1-c9d8-ea22f7b97de8",
        "colab": {
          "base_uri": "https://localhost:8080/",
          "height": 35
        }
      },
      "source": [
        "%%script bash\n",
        "gcc ptrArith.c -o ptrArith\n",
        "./ptrArith"
      ],
      "execution_count": 6,
      "outputs": [
        {
          "output_type": "stream",
          "text": [
            "10,20,30,40,50,"
          ],
          "name": "stdout"
        }
      ]
    },
    {
      "cell_type": "markdown",
      "metadata": {
        "id": "oYinxlZvhL-X"
      },
      "source": [
        "In the above-mentioned program, let the base address of the array is 500. Thus, `&arr[4]` denotes the address of `arr[4]` i.e `516` and 4 is subtracted from it. `arr` is an integer array and each integer takes 4 bytes of the memory. On subtracting 4, 4 * 4 bytes is subtracted from the address of `arr[4]` and we get the address `500` i.e the address of `arr[0]`. This address is assigned to `k`. \n",
        "\n",
        "Next, the `for` loop is executed 5 times and in each execution, the `printf()` function prints the value at the address in `k` and then address at `k` is increased. Hence, it prints elements of the array as output `10,20,30,40,50,`."
      ]
    },
    {
      "cell_type": "markdown",
      "metadata": {
        "id": "pzsEyhfzB3OL"
      },
      "source": [
        "It may be noted that we can't perform addition operation between two pointers. Thus, the following code will throw a compile-time error. \n"
      ]
    },
    {
      "cell_type": "code",
      "metadata": {
        "id": "BjYCaw9IB-kC",
        "outputId": "437a254b-2756-4f3f-a545-88d9ccd8a4bf",
        "colab": {
          "base_uri": "https://localhost:8080/",
          "height": 35
        }
      },
      "source": [
        "%%writefile ptrAdd.c\n",
        "#include <stdio.h>\n",
        "\n",
        "int main(){\n",
        "    int array[10];\n",
        "    int *i = &array[2], *j = &array[5];\n",
        "    int *k = i + j;\n",
        "    int diff = j - i;\n",
        "    printf(\"%d\",diff);\n",
        "}"
      ],
      "execution_count": 7,
      "outputs": [
        {
          "output_type": "stream",
          "text": [
            "Overwriting ptrAdd.c\n"
          ],
          "name": "stdout"
        }
      ]
    },
    {
      "cell_type": "code",
      "metadata": {
        "id": "SBNiWPZ4CT0Y",
        "outputId": "9c8819da-87d4-4349-d469-690fe4f8b6c3",
        "colab": {
          "base_uri": "https://localhost:8080/",
          "height": 89
        }
      },
      "source": [
        "%%script bash\n",
        "gcc ptrAdd.c -o ptrAdd"
      ],
      "execution_count": 8,
      "outputs": [
        {
          "output_type": "stream",
          "text": [
            "ptrAdd.c: In function ‘main’:\n",
            "ptrAdd.c:6:16: error: invalid operands to binary + (have ‘int *’ and ‘int *’)\n",
            "     int *k = i + j;\n",
            "                ^\n"
          ],
          "name": "stderr"
        }
      ]
    },
    {
      "cell_type": "markdown",
      "metadata": {
        "id": "WRZQOmUQr5Sg"
      },
      "source": [
        "## Dynamic Memory in C / C++"
      ]
    },
    {
      "cell_type": "markdown",
      "metadata": {
        "id": "qY7QK3N1sQ_5"
      },
      "source": [
        "Application's memory can be divided into four segments:\n",
        "\n",
        "* **Code (Text)**: Store the instructions that need to be executed \n",
        "* **Global / Constan**t: Store all the static and global variables \n",
        "* **Stack**: Store all the information of function calls and local variables. \n",
        "\n",
        "The amount of memory set aside for the above three segments does not grow while the application is running. \n",
        "\n",
        "When our program (code) starts, the operating system (OS) allocates some amount of reserved space.  Let's say the OS allocates 1 MB of space as stack. But the actual allocation of the stack frame and the actual allocation of the local variables happens from the stack during runtime and if our call stack grows beyond the reserved \n",
        "memory for the stack like for example, if a method `A` calls `B`, `B` calls `C`and we go on calling and we exhaust the whole space reserved for the stack, then this is called **stack overflow** and in this case our program will crash.\n",
        "\n",
        "One common case of **stack overflow** is when you write a bad recursion and your program goes infinitely into recursion.\n",
        "\n",
        "* **Heap**: Unlike stack, application's heap is not fixed. It's size can vary during the lifetime of the application and there is no set rule for the allocation or deallocation of the memory. A programmer can totally control how much memory to use from the heap, till what time to keep the data in the memory during the application's lifetime. A heap can grow as long as you do not run out of memory on the system itself. We also sometimes call heap, a free pool of memory\n",
        "or a free store of memory. We can get as much as we want from the heap.\n",
        "\n"
      ]
    },
    {
      "cell_type": "markdown",
      "metadata": {
        "id": "AH5bZi2MxXOp"
      },
      "source": [
        "To use dynamic memory in C, we need to know about four functions, as given below:\n",
        "* `malloc` \n",
        "* `calloc`\n",
        "* `realloc`\n",
        "* `free` - To deallocate the block of memory \n",
        "\n",
        "To use dynamic memory in C++, we need to know about two operators, as given below:\n",
        "* `new` \n",
        "* `delete`\n",
        "\n",
        "The four functions (`malloc`, `calloc`, `realloc`, `free`)  can also be used in C++, as C++ has backward compatibility. It is only a\n",
        "superset of C. But C++ programmers use mostly these two operators, \n",
        "`new` and `delete`."
      ]
    },
    {
      "cell_type": "code",
      "metadata": {
        "id": "lXzVshyPyZMt",
        "outputId": "6d2144dc-ae35-4c00-f2dc-f03dbaad24f3",
        "colab": {
          "base_uri": "https://localhost:8080/",
          "height": 35
        }
      },
      "source": [
        "%%writefile dynamic.c\n",
        "#include <stdio.h>\n",
        "#include <stdlib.h>\n",
        "\n",
        "int main(){\n",
        "    int a; // goes on stack \n",
        "\n",
        "    // Allocate memory on heap\n",
        "    int *p; \n",
        "    p = (int*)malloc(sizeof(int)); // malloc returns void pointer \n",
        "    *p = 10;\n",
        "    free(p);\n",
        "\n",
        "    p = (int*)malloc(20*sizeof(int)); \n",
        "}"
      ],
      "execution_count": 9,
      "outputs": [
        {
          "output_type": "stream",
          "text": [
            "Overwriting dynamic.c\n"
          ],
          "name": "stdout"
        }
      ]
    },
    {
      "cell_type": "code",
      "metadata": {
        "id": "v5okjjIg0RSy"
      },
      "source": [
        "%%script bash\n",
        "gcc dynamic.c"
      ],
      "execution_count": 10,
      "outputs": []
    },
    {
      "cell_type": "code",
      "metadata": {
        "id": "heeUrZzQ0l5R",
        "outputId": "4a205f79-209d-402f-869c-120099815e84",
        "colab": {
          "base_uri": "https://localhost:8080/",
          "height": 35
        }
      },
      "source": [
        "%%writefile dynamic.cpp\n",
        "#include <iostream>\n",
        "#include <algorithm>\n",
        "\n",
        "using namespace std; \n",
        "\n",
        "int main(){\n",
        "    int a; // goes on stack \n",
        "\n",
        "    // Allocate memory on heap in cpp\n",
        "    int *p; \n",
        "    p = new int;  // malloc returns void pointer \n",
        "    *p = 10;\n",
        "    delete(p);\n",
        "\n",
        "    p = new int[20];\n",
        "    delete[] p;  \n",
        "}"
      ],
      "execution_count": 11,
      "outputs": [
        {
          "output_type": "stream",
          "text": [
            "Overwriting dynamic.cpp\n"
          ],
          "name": "stdout"
        }
      ]
    },
    {
      "cell_type": "code",
      "metadata": {
        "id": "HPhlIXOt05sD"
      },
      "source": [
        "%%script bash\n",
        "g++ dynamic.cpp "
      ],
      "execution_count": 12,
      "outputs": []
    },
    {
      "cell_type": "markdown",
      "metadata": {
        "id": "j_vIb1FmTmOj"
      },
      "source": [
        "## Pointers vs References in C++"
      ]
    },
    {
      "cell_type": "markdown",
      "metadata": {
        "id": "WEHG1gPcTqYf"
      },
      "source": [
        "**Pointers**: A pointer is a variable that holds memory address of another variable. A pointer needs to be dereferenced with `*` operator to access the memory location it points to.\n",
        "\n",
        "**References** : A reference variable is an alias, that is, another name for an already existing variable. A reference, like a pointer, is also implemented by storing the address of an object.\n",
        "\n",
        "```\n",
        "int i = 3; \n",
        "\n",
        "// A pointer to variable i (or stores the address of i)\n",
        "int *ptr = &i; \n",
        "\n",
        "// A reference (or an alias) for i\n",
        "int &ref = i; \n",
        "```\n",
        "\n",
        "For details, click https://www.geeksforgeeks.org/pointers-vs-references-cpp/ "
      ]
    },
    {
      "cell_type": "markdown",
      "metadata": {
        "id": "MiW-g-JT6_fW"
      },
      "source": [
        "## Declaring Variables "
      ]
    },
    {
      "cell_type": "markdown",
      "metadata": {
        "id": "3RXJximZ7LI5"
      },
      "source": [
        "* Variable name cannot start with a digit. For example, `int 3_a;` is not a valid declaration. On the other hand, following declarations are valid: \n",
        "\n",
        " * `int __a3;`\n",
        " * `int a_3;`\n",
        " * `int _3a;`\n",
        "\n",
        "* `#define PI 3.14` is a macro preprocessor, it is a textual substitution. It cannot be considered as a valid variable name declaration. The following code will throw a compile time error. \n",
        "\n"
      ]
    },
    {
      "cell_type": "code",
      "metadata": {
        "id": "WId8dhSDAD85",
        "outputId": "72e27fa4-3f58-4288-cf34-8ea6968ca15f",
        "colab": {
          "base_uri": "https://localhost:8080/",
          "height": 35
        }
      },
      "source": [
        "%%writefile macroPre.c\n",
        "#include <stdio.h>\n",
        "#define PI 3.14\n",
        "int main() {\n",
        "    PI = PI + 1; \n",
        "}"
      ],
      "execution_count": 13,
      "outputs": [
        {
          "output_type": "stream",
          "text": [
            "Overwriting macroPre.c\n"
          ],
          "name": "stdout"
        }
      ]
    },
    {
      "cell_type": "code",
      "metadata": {
        "id": "Zk6grKQUASwi",
        "outputId": "4c410178-ba68-4a81-cb75-2f2f7dc69f70",
        "colab": {
          "base_uri": "https://localhost:8080/",
          "height": 89
        }
      },
      "source": [
        "%%script bash \n",
        "gcc macroPre.c -o macroPre"
      ],
      "execution_count": 14,
      "outputs": [
        {
          "output_type": "stream",
          "text": [
            "macroPre.c: In function ‘main’:\n",
            "macroPre.c:4:8: error: lvalue required as left operand of assignment\n",
            "     PI = PI + 1;\n",
            "        ^\n"
          ],
          "name": "stderr"
        }
      ]
    },
    {
      "cell_type": "markdown",
      "metadata": {
        "id": "4PvQtlzXNNEo"
      },
      "source": [
        "* A C program can have same function name and same variable name. This is shown in the code given below. "
      ]
    },
    {
      "cell_type": "code",
      "metadata": {
        "id": "hfu03UKkNQ2D",
        "outputId": "b3fa200a-11ea-469e-ecc1-5cd48107439f",
        "colab": {
          "base_uri": "https://localhost:8080/",
          "height": 35
        }
      },
      "source": [
        "%%writefile funVar.c\n",
        "#include <stdio.h>\n",
        "\n",
        "int main(){\n",
        "  int main = 3;\n",
        "  printf(\"See, I have declared a variable named as main!\\n\"); \n",
        "  printf(\"%d\", main);\n",
        "  return 0;\n",
        "}"
      ],
      "execution_count": 15,
      "outputs": [
        {
          "output_type": "stream",
          "text": [
            "Overwriting funVar.c\n"
          ],
          "name": "stdout"
        }
      ]
    },
    {
      "cell_type": "code",
      "metadata": {
        "id": "g3Q9sEafNhIx",
        "outputId": "cf3c66e6-0c75-4292-d08a-16514e4531d0",
        "colab": {
          "base_uri": "https://localhost:8080/",
          "height": 53
        }
      },
      "source": [
        "%%script bash \n",
        "gcc funVar.c -o funVar\n",
        "./funVar"
      ],
      "execution_count": 16,
      "outputs": [
        {
          "output_type": "stream",
          "text": [
            "See, I have declared a variable named as main!\n",
            "3"
          ],
          "name": "stdout"
        }
      ]
    },
    {
      "cell_type": "markdown",
      "metadata": {
        "id": "jX5BiX-Sranx"
      },
      "source": [
        "* We cannot redefine a variable in C. Doing so results in an error, as shown in the code given below. For details, click https://www.geeksforgeeks.org/g-fact-19-redeclaration-of-global-variable-in-c/ "
      ]
    },
    {
      "cell_type": "code",
      "metadata": {
        "id": "ep9wundArnRy",
        "outputId": "8e98d1c1-029a-4c52-c682-9f2dc896d6f4",
        "colab": {
          "base_uri": "https://localhost:8080/",
          "height": 35
        }
      },
      "source": [
        "%%writefile redefVar.c\n",
        "#include <stdio.h>\n",
        "\n",
        "int main(){\n",
        "  int y = 10000;\n",
        "  int y = 34;\n",
        "  printf(\"Hello World! %d\\n\", y);\n",
        "  return 0;\n",
        "}"
      ],
      "execution_count": 17,
      "outputs": [
        {
          "output_type": "stream",
          "text": [
            "Overwriting redefVar.c\n"
          ],
          "name": "stdout"
        }
      ]
    },
    {
      "cell_type": "code",
      "metadata": {
        "id": "6DKmfowSrxiP",
        "outputId": "cf56eb50-f793-438a-ef66-45a0d3d0bdb0",
        "colab": {
          "base_uri": "https://localhost:8080/",
          "height": 143
        }
      },
      "source": [
        "%%script bash \n",
        "gcc redefVar.c -o redefVar"
      ],
      "execution_count": 18,
      "outputs": [
        {
          "output_type": "stream",
          "text": [
            "redefVar.c: In function ‘main’:\n",
            "redefVar.c:5:7: error: redefinition of ‘y’\n",
            "   int y = 34;\n",
            "       ^\n",
            "redefVar.c:4:7: note: previous definition of ‘y’ was here\n",
            "   int y = 10000;\n",
            "       ^\n"
          ],
          "name": "stderr"
        }
      ]
    },
    {
      "cell_type": "markdown",
      "metadata": {
        "id": "eAHa3aIhAPLd"
      },
      "source": [
        "## Types of Variables"
      ]
    },
    {
      "cell_type": "markdown",
      "metadata": {
        "id": "rZ5xJoGkAST4"
      },
      "source": [
        "1. **Local Variable** - A variable that is declared and used inside a function or a block is called local variable. It's scope is limited to the function or the block. It cannot be used outside the block. \n",
        "\n",
        "2. **Global Variable** - A variable that is declared outside the function or block is called a global variable. It is declared at the starting of program. It is available to all the functions.\n",
        "\n",
        "3. **Static Variable** - A variable that retains its value between multiple function calls is known as static variable. It is declared with the `static` keyword. By default, they are assigned the value `0` by the compiler.\n",
        "\n",
        "4. **Register Variable** - Registers are faster than memory to access, so the variables which are most frequently used in a C program can be put in registers using `register` keyword. The keyword `register` hints to compiler that a given variable can be put in a register. It is compiler's choice to put it in a register or not. \n",
        "\n",
        "5. **Automatic Variable** - All variables in C that are declared inside the block, are automatic variables by default. We can explicitly declare an automatic variable using `auto` keyword. Automatic variables are similar as local variables.\n",
        "\n",
        "6. **External Variable** - It can be shared between multiple C files. We can declare external variable using `extern` keyword.\n",
        "\n",
        "**Note**: By default `external` and `static` variables are initialized to 0. `auto` and `register` variables are not assigned any value and hence contain garbage value, as shown in the code below. Sometime it might give the values of `auto` and `register` variables as 0 but that is just a co-incidence."
      ]
    },
    {
      "cell_type": "code",
      "metadata": {
        "id": "2NRG8xrkER7H",
        "outputId": "00ff988c-093d-4b28-ebd9-4a1bc60b5a1b",
        "colab": {
          "base_uri": "https://localhost:8080/",
          "height": 35
        }
      },
      "source": [
        "%%writefile typeVars.c\n",
        "#include <stdio.h>\n",
        "\n",
        "int a; \n",
        "int main() {\n",
        "    auto int x = 20, b;\n",
        "    static int c;\n",
        "    register int y = 20, d;\n",
        "    printf(\"a = %d \", a);\n",
        "    printf(\"b = %d \", b);\n",
        "    printf(\"c = %d \", c);\n",
        "    printf(\"d = %d \", d);\n",
        "}"
      ],
      "execution_count": 19,
      "outputs": [
        {
          "output_type": "stream",
          "text": [
            "Overwriting typeVars.c\n"
          ],
          "name": "stdout"
        }
      ]
    },
    {
      "cell_type": "code",
      "metadata": {
        "id": "lNdVFXp_Eilr",
        "outputId": "44867ea9-268f-4f89-f9c2-42728d12358a",
        "colab": {
          "base_uri": "https://localhost:8080/",
          "height": 35
        }
      },
      "source": [
        "%%script bash\n",
        "gcc typeVars.c -o typeVars\n",
        "./typeVars"
      ],
      "execution_count": 20,
      "outputs": [
        {
          "output_type": "stream",
          "text": [
            "a = 0 b = 22025 c = 0 d = 0 "
          ],
          "name": "stdout"
        }
      ]
    },
    {
      "cell_type": "markdown",
      "metadata": {
        "id": "nBvA7UNsAVZk"
      },
      "source": [
        "Let us see what happens when we try to re-declare a variable in global scope, as shown in the code given below. "
      ]
    },
    {
      "cell_type": "code",
      "metadata": {
        "id": "wEPSh_65AfyP",
        "outputId": "b83a1f12-50e9-4a67-dec4-26e4711e421d",
        "colab": {
          "base_uri": "https://localhost:8080/",
          "height": 35
        }
      },
      "source": [
        "%%writefile redeclare.c\n",
        "#include <stdio.h>\n",
        "\n",
        "static int i = 10;\n",
        "i = 20;\n",
        "\n",
        "int main() {\n",
        "    printf(\"%d\",i);\n",
        "    return 0;\n",
        "}"
      ],
      "execution_count": 21,
      "outputs": [
        {
          "output_type": "stream",
          "text": [
            "Overwriting redeclare.c\n"
          ],
          "name": "stdout"
        }
      ]
    },
    {
      "cell_type": "code",
      "metadata": {
        "id": "cQEtu9qSAsdt",
        "outputId": "69daa668-4521-45da-9259-d8f5bf05e949",
        "colab": {
          "base_uri": "https://localhost:8080/",
          "height": 161
        }
      },
      "source": [
        "%%script bash\n",
        "gcc redeclare.c -o redeclare"
      ],
      "execution_count": 22,
      "outputs": [
        {
          "output_type": "stream",
          "text": [
            "redeclare.c:4:1: warning: data definition has no type or storage class\n",
            " i = 20;\n",
            " ^\n",
            "redeclare.c:4:1: warning: type defaults to ‘int’ in declaration of ‘i’ [-Wimplicit-int]\n",
            "redeclare.c:4:1: error: redefinition of ‘i’\n",
            "redeclare.c:3:12: note: previous definition of ‘i’ was here\n",
            " static int i = 10;\n",
            "            ^\n"
          ],
          "name": "stderr"
        }
      ]
    },
    {
      "cell_type": "markdown",
      "metadata": {
        "id": "ExUKt925AzcM"
      },
      "source": [
        "In the above-mentioned program, when we write `i = 20;` in the global scope, it is considered as a declaration and not just an assignment and the compiler assumes it as `int i = 20;` Hence, the compiler reports the `error` that there was a non-static declaration of `i` after the static declaration of `i` which is not allowed."
      ]
    },
    {
      "cell_type": "markdown",
      "metadata": {
        "id": "iQujTBUGtYcD"
      },
      "source": [
        "## Scope of Variables "
      ]
    },
    {
      "cell_type": "markdown",
      "metadata": {
        "id": "zVpcYkRztaaZ"
      },
      "source": [
        "Scope of an identifier is the part of the program where the identifier may directly be accessible. In **Block Scope**, scope of an identifier begins at opening of the block `{` and ends at the end of the block `}`. Identifiers with block scope are local to their block. \n",
        "\n",
        "Therefore, the following code will compile without any error. "
      ]
    },
    {
      "cell_type": "code",
      "metadata": {
        "id": "ExVxWoJ1uBh2",
        "outputId": "4627aef4-1b45-4d24-faec-ab8c0b9db047",
        "colab": {
          "base_uri": "https://localhost:8080/",
          "height": 35
        }
      },
      "source": [
        "%%writefile scopeBlock.c\n",
        "#include <stdio.h>\n",
        "\n",
        "int main(){\n",
        "     int k;\n",
        "        {\n",
        "            int k;\n",
        "            for (k = 0; k < 10; k++);\n",
        "            printf(\"%d\", k); \n",
        "        }\n",
        "}"
      ],
      "execution_count": 23,
      "outputs": [
        {
          "output_type": "stream",
          "text": [
            "Overwriting scopeBlock.c\n"
          ],
          "name": "stdout"
        }
      ]
    },
    {
      "cell_type": "code",
      "metadata": {
        "id": "IKTPJCcjui8p",
        "outputId": "1fb2ef81-6b8c-4155-e99e-a8202ebb4b23",
        "colab": {
          "base_uri": "https://localhost:8080/",
          "height": 35
        }
      },
      "source": [
        "%%script bash\n",
        "gcc scopeBlock.c -o scopeBlock\n",
        "./scopeBlock"
      ],
      "execution_count": 24,
      "outputs": [
        {
          "output_type": "stream",
          "text": [
            "10"
          ],
          "name": "stdout"
        }
      ]
    },
    {
      "cell_type": "markdown",
      "metadata": {
        "id": "Jb0uXYbeCMy-"
      },
      "source": [
        "## Format Identifier \n",
        "\n",
        "Format specifiers are used for input and output purposes.  A format specifier helps the compiler understand what type of data is in input and output operations. The data type decides the format specifier, as given below. \n",
        " \n",
        "Data type | format specifier\n",
        "--- | ---\n",
        "`char` | `%c` \n",
        "`int` | `%d`, `%i`\n",
        "`float` | `%f`, `%e`, `%E`\n",
        "string | `%s`\n",
        "\n",
        "The following code shows how to use a format identifier. "
      ]
    },
    {
      "cell_type": "code",
      "metadata": {
        "id": "MAyMZ1pIBOgk",
        "outputId": "dbc7e067-6bf4-4094-8d55-d8aa15dc0cfc",
        "colab": {
          "base_uri": "https://localhost:8080/",
          "height": 35
        }
      },
      "source": [
        "%%writefile identifier.c\n",
        "#include <stdio.h>\n",
        "\n",
        "int main() {\n",
        "    char *var = \"Placement opportunities from Costuco\";\n",
        "    printf(\"%c\\n\", var[5]);\n",
        "    printf(\"%d\\n\", var[0]);\n",
        "    printf(\"%s\\n\", var);\n",
        "}"
      ],
      "execution_count": 25,
      "outputs": [
        {
          "output_type": "stream",
          "text": [
            "Overwriting identifier.c\n"
          ],
          "name": "stdout"
        }
      ]
    },
    {
      "cell_type": "code",
      "metadata": {
        "id": "XbosriN3CC1c",
        "outputId": "d48b57f1-8074-4232-e28e-0a86619da180",
        "colab": {
          "base_uri": "https://localhost:8080/",
          "height": 71
        }
      },
      "source": [
        "%%script bash \n",
        "gcc identifier.c -o identifier\n",
        "./identifier"
      ],
      "execution_count": 26,
      "outputs": [
        {
          "output_type": "stream",
          "text": [
            "m\n",
            "80\n",
            "Placement opportunities from Costuco\n"
          ],
          "name": "stdout"
        }
      ]
    },
    {
      "cell_type": "markdown",
      "metadata": {
        "id": "EFTs3ooFFX2Q"
      },
      "source": [
        "`\\0` is accepted as a `char` in the string, as shown in the code given below. In this code, even though `strlen` will give length of string `costuco.com`. However, in memory, `str` is pointing to entire string including `training classes`."
      ]
    },
    {
      "cell_type": "code",
      "metadata": {
        "id": "YAzR-733FhRO",
        "outputId": "87241e60-e007-46a7-eb2b-3367cb865c94",
        "colab": {
          "base_uri": "https://localhost:8080/",
          "height": 35
        }
      },
      "source": [
        "%%writefile charFormat.c\n",
        "#include <stdio.h>\n",
        "#include <string.h>\n",
        "\n",
        "int main() {\n",
        "    char *str = \"costuco.com\\0\" \"training classes\";\n",
        "    printf(\"%s\\n\", str); \n",
        "    printf(\"The length of given string is %ld\\n\", strlen(str));\n",
        "}"
      ],
      "execution_count": 27,
      "outputs": [
        {
          "output_type": "stream",
          "text": [
            "Overwriting charFormat.c\n"
          ],
          "name": "stdout"
        }
      ]
    },
    {
      "cell_type": "code",
      "metadata": {
        "id": "-H7EWV3TFwtY",
        "outputId": "2293d342-eb72-4953-ee93-803495dfdba7",
        "colab": {
          "base_uri": "https://localhost:8080/",
          "height": 53
        }
      },
      "source": [
        "%%script bash \n",
        "gcc charFormat.c -o charFormat\n",
        "./charFormat"
      ],
      "execution_count": 28,
      "outputs": [
        {
          "output_type": "stream",
          "text": [
            "costuco.com\n",
            "The length of given string is 11\n"
          ],
          "name": "stdout"
        }
      ]
    },
    {
      "cell_type": "markdown",
      "metadata": {
        "id": "PQ1sdyVpIj4A"
      },
      "source": [
        "## Comparison of a Float with a Value\n",
        "\n",
        "In C programming language, the size of a `float`\tis 4 bytes, whereas the size of a `double` is 8 bytes. The following code shows this. \n"
      ]
    },
    {
      "cell_type": "code",
      "metadata": {
        "id": "zdgBdgUaJHCb",
        "outputId": "45e53917-f61e-4ae4-aa07-b62c300a818e",
        "colab": {
          "base_uri": "https://localhost:8080/",
          "height": 35
        }
      },
      "source": [
        "%%writefile sizeVar.c\n",
        "#include<stdio.h>\n",
        "\n",
        "int main() {\n",
        "    int intType;\n",
        "    float floatType;\n",
        "    double doubleType;\n",
        "    char charType;\n",
        "    printf(\"Size of int: %ld bytes\\n\", sizeof(intType));\n",
        "    printf(\"Size of float: %ld bytes\\n\", sizeof(floatType));\n",
        "    printf(\"Size of double: %ld bytes\\n\", sizeof(doubleType));\n",
        "    printf(\"Size of char: %ld byte\\n\", sizeof(charType));\n",
        "}"
      ],
      "execution_count": 29,
      "outputs": [
        {
          "output_type": "stream",
          "text": [
            "Overwriting sizeVar.c\n"
          ],
          "name": "stdout"
        }
      ]
    },
    {
      "cell_type": "code",
      "metadata": {
        "id": "LpS4mJOJJQKp",
        "outputId": "d2cee102-d87e-4c2e-ef69-db57cf9729fc",
        "colab": {
          "base_uri": "https://localhost:8080/",
          "height": 89
        }
      },
      "source": [
        "%%script bash\n",
        "gcc sizeVar.c -o sizeVar\n",
        "./sizeVar"
      ],
      "execution_count": 30,
      "outputs": [
        {
          "output_type": "stream",
          "text": [
            "Size of int: 4 bytes\n",
            "Size of float: 4 bytes\n",
            "Size of double: 8 bytes\n",
            "Size of char: 1 byte\n"
          ],
          "name": "stdout"
        }
      ]
    },
    {
      "cell_type": "markdown",
      "metadata": {
        "id": "_cyzFsKBJt-k"
      },
      "source": [
        "Please note that two different data types (even having same values) should not be compared for a condition. This is shown in the code given below. "
      ]
    },
    {
      "cell_type": "code",
      "metadata": {
        "id": "aO1lcv72J_lI",
        "outputId": "8e299705-4919-413e-fc2e-d802d8c8eca8",
        "colab": {
          "base_uri": "https://localhost:8080/",
          "height": 35
        }
      },
      "source": [
        "%%writefile doubleFloat.c\n",
        "#include<stdio.h>\n",
        "\n",
        "int main() {\n",
        "    float f1 = 0.1;\n",
        "\n",
        "    if (f1 == 0.1) printf(\"equal\\n\");\n",
        "    else printf(\"not equal\\n\");\n",
        "}"
      ],
      "execution_count": 31,
      "outputs": [
        {
          "output_type": "stream",
          "text": [
            "Overwriting doubleFloat.c\n"
          ],
          "name": "stdout"
        }
      ]
    },
    {
      "cell_type": "code",
      "metadata": {
        "id": "VKyddy2TKKgI",
        "outputId": "fc60f21f-afdf-4429-ef14-ba8ce92a7ac0",
        "colab": {
          "base_uri": "https://localhost:8080/",
          "height": 35
        }
      },
      "source": [
        "%%script bash\n",
        "gcc doubleFloat.c -o doubleFloat \n",
        "./doubleFloat"
      ],
      "execution_count": 32,
      "outputs": [
        {
          "output_type": "stream",
          "text": [
            "not equal\n"
          ],
          "name": "stdout"
        }
      ]
    },
    {
      "cell_type": "markdown",
      "metadata": {
        "id": "ac5skY5BKbay"
      },
      "source": [
        "In the above-mentioned code, `0.1` by default is of type `double` which has different representation than `float` resulting in inequality even after conversion.\n",
        "\n",
        "However, if we modify `0.1` to be `0.1f` in the condition, it would result in `0.1` to be stored in floating point representation. This is shown in the code given below.  \n"
      ]
    },
    {
      "cell_type": "code",
      "metadata": {
        "id": "HAw2YLcv3_3U",
        "outputId": "7259b482-c08b-4482-ad8a-2fa96ebb7f8e",
        "colab": {
          "base_uri": "https://localhost:8080/",
          "height": 35
        }
      },
      "source": [
        "%%writefile floatFloat.c\n",
        "#include<stdio.h>\n",
        "\n",
        "int main() {\n",
        "    float f1 = 0.1;\n",
        "\n",
        "    if (f1 == 0.1f) printf(\"equal\\n\");\n",
        "    else printf(\"not equal\\n\");\n",
        "}"
      ],
      "execution_count": 33,
      "outputs": [
        {
          "output_type": "stream",
          "text": [
            "Overwriting floatFloat.c\n"
          ],
          "name": "stdout"
        }
      ]
    },
    {
      "cell_type": "code",
      "metadata": {
        "id": "_NPznvzY4C_B",
        "outputId": "501814db-116e-4061-edd7-0152414e958e",
        "colab": {
          "base_uri": "https://localhost:8080/",
          "height": 35
        }
      },
      "source": [
        "%%script bash \n",
        "gcc floatFloat.c -o floatFloat\n",
        "./floatFloat"
      ],
      "execution_count": 34,
      "outputs": [
        {
          "output_type": "stream",
          "text": [
            "equal\n"
          ],
          "name": "stdout"
        }
      ]
    },
    {
      "cell_type": "markdown",
      "metadata": {
        "id": "vAu73sDW8N2y"
      },
      "source": [
        "## Sequence Point Problem"
      ]
    },
    {
      "cell_type": "markdown",
      "metadata": {
        "id": "RekLVxiK8ZgR"
      },
      "source": [
        "When a sequence point occurs, it means that we are guaranteed that all previous operations are complete. Changing a variable twice without an intervening sequence point is one example of undefined behavior. For example, `i = i++;` is undefined because there's no sequence point between the two changes to `i`. \n",
        "\n",
        "The following code is a sequence point problem and hence the result will be implementation dependent. \n"
      ]
    },
    {
      "cell_type": "code",
      "metadata": {
        "id": "N8xwzvyh9Pol",
        "outputId": "076b1618-f5d9-4c46-b497-87b083900d3f",
        "colab": {
          "base_uri": "https://localhost:8080/",
          "height": 35
        }
      },
      "source": [
        "%%writefile seqPoint.c\n",
        "#include <stdio.h>\n",
        "\n",
        "int main() {\n",
        "    int a = 10; \n",
        "    if (a == a--) {\n",
        "        printf(\"TRUE 1\\t\");\n",
        "    }\n",
        "    a = 10;\n",
        "    if (a == --a) {\n",
        "        printf(\"TRUE 2\\t\");\n",
        "    }\n",
        "}"
      ],
      "execution_count": 35,
      "outputs": [
        {
          "output_type": "stream",
          "text": [
            "Overwriting seqPoint.c\n"
          ],
          "name": "stdout"
        }
      ]
    },
    {
      "cell_type": "code",
      "metadata": {
        "id": "5kYsguKh97OF",
        "outputId": "bef6dd19-2d44-4689-c4a6-6b61fc21c96b",
        "colab": {
          "base_uri": "https://localhost:8080/",
          "height": 35
        }
      },
      "source": [
        "%%script bash\n",
        "gcc seqPoint.c -o seqPoint\n",
        "./seqPoint"
      ],
      "execution_count": 36,
      "outputs": [
        {
          "output_type": "stream",
          "text": [
            "TRUE 2\t"
          ],
          "name": "stdout"
        }
      ]
    },
    {
      "cell_type": "markdown",
      "metadata": {
        "id": "-pVPVfMzLPiY"
      },
      "source": [
        "## Assigning Binary Values in a Variable"
      ]
    },
    {
      "cell_type": "markdown",
      "metadata": {
        "id": "1iFwHdWhLXbl"
      },
      "source": [
        "* Decimal value can be assigned directly like `int a = 100;`, Octal value can be assigned by using `0` notation like `int b = 0144;` and Hexadecimal value can be assigned by using `0X` or `0x` notation like `int c = 0x64;` This is shown in the code given below. \n",
        "\n",
        "* Binary value can be assigned in a variable by using `0b` notation (we can say it format specifier too).  This is a new feature which was introduced in C99 (not a standard feature, some compilers may not support this feature). \n"
      ]
    },
    {
      "cell_type": "code",
      "metadata": {
        "id": "yxM9JByJMBlA",
        "outputId": "e25d46ed-0783-49f4-e100-0f73eee44085",
        "colab": {
          "base_uri": "https://localhost:8080/",
          "height": 35
        }
      },
      "source": [
        "%%writefile binOctHex.c\n",
        "\n",
        "#include <stdio.h>\n",
        "int main()\n",
        "{\n",
        "\tint dec = 100;\n",
        "  int bin = 0b1010;\n",
        "\tint oct = 0144;\n",
        "\tint hex = 0x64;\n",
        "\t\n",
        "  printf(\"Decimal representation: \"); \n",
        "\tprintf(\"dec = %d\\n\", dec);\n",
        " \n",
        "  printf(\"Binary representation: \"); \n",
        "\tprintf(\"bin = %d\\n\", bin);\n",
        " \n",
        "  printf(\"Octal representation: \"); \n",
        "\tprintf(\"oct = %d\\n\", oct);\n",
        " \n",
        "  printf(\"Hexadecimal representation: \"); \n",
        "\tprintf(\"hex = %d\\n\", hex);\n",
        "\t\n",
        "\treturn 0;\n",
        "}"
      ],
      "execution_count": 37,
      "outputs": [
        {
          "output_type": "stream",
          "text": [
            "Overwriting binOctHex.c\n"
          ],
          "name": "stdout"
        }
      ]
    },
    {
      "cell_type": "code",
      "metadata": {
        "id": "jb2UgELSMKNn",
        "outputId": "f0e1bc83-39d3-409b-bcb6-0c93142584a5",
        "colab": {
          "base_uri": "https://localhost:8080/",
          "height": 89
        }
      },
      "source": [
        "%%script bash \n",
        "gcc binOctHex.c -o binOctHex\n",
        "./binOctHex"
      ],
      "execution_count": 38,
      "outputs": [
        {
          "output_type": "stream",
          "text": [
            "Decimal representation: dec = 100\n",
            "Binary representation: bin = 10\n",
            "Octal representation: oct = 100\n",
            "Hexadecimal representation: hex = 100\n"
          ],
          "name": "stdout"
        }
      ]
    },
    {
      "cell_type": "markdown",
      "metadata": {
        "id": "2mJD9A-NW0o9"
      },
      "source": [
        "## Const Qualifier"
      ]
    },
    {
      "cell_type": "markdown",
      "metadata": {
        "id": "MGmDz922W32Z"
      },
      "source": [
        "The qualifier `const` can be applied to the declaration of any variable to specify that its value will not be changed (which depends upon where `const` variables are stored, we may change the value of `const` variable by using pointer). The result is implementation-defined if an attempt is made to change a `const`. \n",
        "For example, the following code will throw a compile-time error.  "
      ]
    },
    {
      "cell_type": "code",
      "metadata": {
        "id": "u-hHzxe8XMvF",
        "outputId": "c67ce03c-ff40-4163-a73e-6410b534509a",
        "colab": {
          "base_uri": "https://localhost:8080/",
          "height": 35
        }
      },
      "source": [
        "%%writefile constPtr.c\n",
        "#include <stdio.h>\n",
        "\n",
        "void foo(const int *); \n",
        "\n",
        "int main(){\n",
        "    const int i = 10; \n",
        "    printf(\"%d\", i); \n",
        "\n",
        "    foo(&i); \n",
        "\n",
        "    printf(\"%d\", i); \n",
        "}\n",
        "\n",
        "void foo(const int *i) {\n",
        "    *i = 20; \n",
        "}"
      ],
      "execution_count": 39,
      "outputs": [
        {
          "output_type": "stream",
          "text": [
            "Overwriting constPtr.c\n"
          ],
          "name": "stdout"
        }
      ]
    },
    {
      "cell_type": "code",
      "metadata": {
        "id": "ovXG0f92XkML",
        "outputId": "46068918-9747-4ced-dc50-a80bf11f013d",
        "colab": {
          "base_uri": "https://localhost:8080/",
          "height": 89
        }
      },
      "source": [
        "%%script bash\n",
        "gcc constPtr.c -o constPtr"
      ],
      "execution_count": 40,
      "outputs": [
        {
          "output_type": "stream",
          "text": [
            "constPtr.c: In function ‘foo’:\n",
            "constPtr.c:15:8: error: assignment of read-only location ‘*i’\n",
            "     *i = 20;\n",
            "        ^\n"
          ],
          "name": "stderr"
        }
      ]
    },
    {
      "cell_type": "markdown",
      "metadata": {
        "id": "6-AqgGp1Xi73"
      },
      "source": [
        "In the above-mentioned code, we are trying to change a `const` variable through a `const` pointer. It throws compile-time error. \n",
        "\n",
        "However, we can change a `const` variable through a non-constant pointer. Doing so might invoke compiler warning. This is shown in the code given below. "
      ]
    },
    {
      "cell_type": "code",
      "metadata": {
        "id": "p512zTrpYENJ",
        "outputId": "454478f9-e934-4a24-9b06-be10307d10bc",
        "colab": {
          "base_uri": "https://localhost:8080/",
          "height": 35
        }
      },
      "source": [
        "%%writefile nonConstPtr.c\n",
        "#include <stdio.h>\n",
        "\n",
        "int main(){\n",
        "    const int i = 10;\n",
        "    int *ptr = &i;\n",
        "    *ptr = 20;\n",
        "    printf(\"%d\\n\", i);\n",
        "    return 0;\n",
        "}"
      ],
      "execution_count": 41,
      "outputs": [
        {
          "output_type": "stream",
          "text": [
            "Overwriting nonConstPtr.c\n"
          ],
          "name": "stdout"
        }
      ]
    },
    {
      "cell_type": "code",
      "metadata": {
        "id": "BPTLZ1OtYU9K",
        "outputId": "a4df5fc2-eeaf-47e0-94d6-6b243738b477",
        "colab": {
          "base_uri": "https://localhost:8080/",
          "height": 89
        }
      },
      "source": [
        "%%script bash\n",
        "gcc nonConstPtr.c -o nonConstPtr"
      ],
      "execution_count": 42,
      "outputs": [
        {
          "output_type": "stream",
          "text": [
            "nonConstPtr.c: In function ‘main’:\n",
            "nonConstPtr.c:5:16: warning: initialization discards ‘const’ qualifier from pointer target type [-Wdiscarded-qualifiers]\n",
            "     int *ptr = &i;\n",
            "                ^\n"
          ],
          "name": "stderr"
        }
      ]
    },
    {
      "cell_type": "code",
      "metadata": {
        "id": "nRcXZ6EXYe2h",
        "outputId": "0fb97dba-63c4-4395-bc8f-8c690f8432a5",
        "colab": {
          "base_uri": "https://localhost:8080/",
          "height": 35
        }
      },
      "source": [
        "%%script bash\n",
        "./nonConstPtr"
      ],
      "execution_count": 43,
      "outputs": [
        {
          "output_type": "stream",
          "text": [
            "20\n"
          ],
          "name": "stdout"
        }
      ]
    },
    {
      "cell_type": "markdown",
      "metadata": {
        "id": "hd7HVD0Qde-O"
      },
      "source": [
        "A constant variable has to be **declared and defined at the same time**. Not doing so results in an error. Also, trying to change its value results in an error, as shown in the code below.\n"
      ]
    },
    {
      "cell_type": "code",
      "metadata": {
        "id": "8J6KDdwidvQw",
        "outputId": "f663aab3-ae0f-45a5-b788-4bb2b6a87f78",
        "colab": {
          "base_uri": "https://localhost:8080/",
          "height": 35
        }
      },
      "source": [
        "%%writefile constVar.c\n",
        "#include <stdio.h>\n",
        "\n",
        "int main(){\n",
        "    int const k = 5;\n",
        "    k++;\n",
        "    printf(\"k is %d\", k);\n",
        "}"
      ],
      "execution_count": 44,
      "outputs": [
        {
          "output_type": "stream",
          "text": [
            "Overwriting constVar.c\n"
          ],
          "name": "stdout"
        }
      ]
    },
    {
      "cell_type": "code",
      "metadata": {
        "id": "YKxBXnHmeM_5",
        "outputId": "982d3094-468d-486e-96bf-02d11f8110be",
        "colab": {
          "base_uri": "https://localhost:8080/",
          "height": 107
        }
      },
      "source": [
        "%%script bash\n",
        "gcc constVar.c -o constVar\n",
        "./constVar"
      ],
      "execution_count": 45,
      "outputs": [
        {
          "output_type": "stream",
          "text": [
            "constVar.c: In function ‘main’:\n",
            "constVar.c:5:6: error: increment of read-only variable ‘k’\n",
            "     k++;\n",
            "      ^~\n",
            "bash: line 2: ./constVar: No such file or directory\n"
          ],
          "name": "stderr"
        }
      ]
    },
    {
      "cell_type": "markdown",
      "metadata": {
        "id": "axtNiC9tfX-O"
      },
      "source": [
        "## Enumeration (or enum)\n",
        "\n"
      ]
    },
    {
      "cell_type": "markdown",
      "metadata": {
        "id": "Cu6S2sVIfdk4"
      },
      "source": [
        "Enumeration (or `enum`) is a user defined data type in C. It is mainly used to assign names to integral constants, the names make a program easy to read and maintain.\n",
        "\n",
        "```\n",
        "enum State {Working = 1, Failed = 0}; \n",
        "```\n",
        "\n",
        "```\n",
        "// The name of enumeration is \"flag\" and the constant\n",
        "// are the values of the flag. By default, the values\n",
        "// of the constants are as follows:\n",
        "// constant1 = 0, constant2 = 1, constant3 = 2 and so on.\n",
        "enum flag{constant1, constant2, constant3, ....... };\n",
        "```\n",
        "\n",
        "```\n",
        "// In both of the below cases, \"day\" is defined as the variable of type week. \n",
        "\n",
        "enum week{Mon, Tue, Wed};\n",
        "enum week day;\n",
        "\n",
        "// Or\n",
        "\n",
        "enum week{Mon, Tue, Wed}day;\n",
        "```\n",
        "\n"
      ]
    },
    {
      "cell_type": "code",
      "metadata": {
        "id": "BOMDZCoIgVOP",
        "outputId": "5aa25e45-f89c-40c7-c526-20b2c41b94b7",
        "colab": {
          "base_uri": "https://localhost:8080/",
          "height": 35
        }
      },
      "source": [
        "%%writefile enumExam.c\n",
        "#include <stdio.h>\n",
        "\n",
        "int main(){\n",
        "    enum {ORANGE = 5, MANGO, BANANA = 4, PEACH};\n",
        "    printf(\"PEACH = %d\\n\", PEACH);\n",
        "}"
      ],
      "execution_count": 46,
      "outputs": [
        {
          "output_type": "stream",
          "text": [
            "Overwriting enumExam.c\n"
          ],
          "name": "stdout"
        }
      ]
    },
    {
      "cell_type": "code",
      "metadata": {
        "id": "8jp9UU-hg5PK",
        "outputId": "63711223-542c-4084-9e2a-6b50d1ca6396",
        "colab": {
          "base_uri": "https://localhost:8080/",
          "height": 35
        }
      },
      "source": [
        "%%script bash \n",
        "gcc enumExam.c -o enumExam\n",
        "./enumExam"
      ],
      "execution_count": 47,
      "outputs": [
        {
          "output_type": "stream",
          "text": [
            "PEACH = 5\n"
          ],
          "name": "stdout"
        }
      ]
    },
    {
      "cell_type": "markdown",
      "metadata": {
        "id": "UsbIKcBvhEvK"
      },
      "source": [
        "While declaring an `enum` data type, we can assign values to some name in any order. All unassigned names get value as value of previous name plus one. In the code given above, the name before `PEACH` is `BANANA`. As, we can see that `BANANA` is assigned a value of 4. Therefore, the value of `PEACH` is 4 + 1 i.e. 5. "
      ]
    },
    {
      "cell_type": "code",
      "metadata": {
        "id": "micjkW6Qh5H1",
        "outputId": "abc096e8-0a01-43a6-848a-8a4beac05aed",
        "colab": {
          "base_uri": "https://localhost:8080/",
          "height": 35
        }
      },
      "source": [
        "%%writefile enumExam1.c\n",
        "#include <stdio.h>\n",
        "\n",
        "enum birds {SPARROW, PEACOCK, PARROT};\n",
        "enum animals {TIGER = 8, LION, RABBIT, ZEBRA};\n",
        "\n",
        "int main(){\n",
        "    enum birds m = TIGER;\n",
        "    int k;\n",
        "    k = m;\n",
        "    printf(\"%d\\n\", k);\n",
        "return 0;\n",
        "}"
      ],
      "execution_count": 48,
      "outputs": [
        {
          "output_type": "stream",
          "text": [
            "Overwriting enumExam1.c\n"
          ],
          "name": "stdout"
        }
      ]
    },
    {
      "cell_type": "code",
      "metadata": {
        "id": "ugzWTcwliRKc",
        "outputId": "a5722864-ffa9-47b8-d578-b07db4382ce9",
        "colab": {
          "base_uri": "https://localhost:8080/",
          "height": 35
        }
      },
      "source": [
        "%%script bash \n",
        "gcc enumExam1.c -o enumExam1\n",
        "./enumExam1"
      ],
      "execution_count": 49,
      "outputs": [
        {
          "output_type": "stream",
          "text": [
            "8\n"
          ],
          "name": "stdout"
        }
      ]
    },
    {
      "cell_type": "markdown",
      "metadata": {
        "id": "C3rGbtEQncI0"
      },
      "source": [
        "## Basics of File Handling"
      ]
    },
    {
      "cell_type": "markdown",
      "metadata": {
        "id": "lSgId77IngkW"
      },
      "source": [
        "So far the operations using C program are done on a prompt / terminal which is not stored anywhere. But in the software industry, most of the programs are written to store the information fetched from the program. One such way is to store the fetched information in a file. \n",
        "\n",
        "For more, click https://www.geeksforgeeks.org/basics-file-handling-c/"
      ]
    },
    {
      "cell_type": "markdown",
      "metadata": {
        "id": "wFenv1VFAKvd"
      },
      "source": [
        "## Operators "
      ]
    },
    {
      "cell_type": "markdown",
      "metadata": {
        "id": "M29Y9qPEANfw"
      },
      "source": [
        "### Left Shift and Right Shift Operators"
      ]
    },
    {
      "cell_type": "markdown",
      "metadata": {
        "id": "sACgCXSDAYyn"
      },
      "source": [
        "`<<` (left shift) - Takes two numbers, left shifts the bits of the first operand, the second operand decides the number of places to shift. Or in other words left shifting an integer `x` with an integer `y` (`x << y`) is equivalent to multiplying `x` with $2^y$.\n",
        "It is shown in the program given below. "
      ]
    },
    {
      "cell_type": "code",
      "metadata": {
        "id": "LnkK_oW_AtmC",
        "outputId": "bea5d636-56cb-4956-e3c8-4565f5e6d3cb",
        "colab": {
          "base_uri": "https://localhost:8080/",
          "height": 35
        }
      },
      "source": [
        "%%writefile leftShift.c\n",
        "#include <stdio.h>\n",
        "\n",
        "int main(){\n",
        "    unsigned char a = 5, b = 9;  \n",
        "   \n",
        "    printf(\"a<<1 = %d\\n\", a << 1); \n",
        "      \n",
        "    printf(\"b<<1 = %d\\n\", b << 1);   \n",
        "    \n",
        "    return 0; \n",
        "}"
      ],
      "execution_count": 50,
      "outputs": [
        {
          "output_type": "stream",
          "text": [
            "Overwriting leftShift.c\n"
          ],
          "name": "stdout"
        }
      ]
    },
    {
      "cell_type": "code",
      "metadata": {
        "id": "dj_wLXoqA7my",
        "outputId": "0035740e-bace-419f-e529-f0f55f51c151",
        "colab": {
          "base_uri": "https://localhost:8080/",
          "height": 53
        }
      },
      "source": [
        "%%script bash \n",
        "gcc leftShift.c -o leftShift\n",
        "./leftShift"
      ],
      "execution_count": 51,
      "outputs": [
        {
          "output_type": "stream",
          "text": [
            "a<<1 = 10\n",
            "b<<1 = 18\n"
          ],
          "name": "stdout"
        }
      ]
    },
    {
      "cell_type": "markdown",
      "metadata": {
        "id": "8pYA_eg2BEMX"
      },
      "source": [
        "`>>` (right shift) - Takes two numbers, right shifts the bits of the first operand, the second operand decides the number of places to shift. Similarly right shifting (`x >> y`) is equivalent to dividing `x` with $2^y$. It is shown in the code given below. "
      ]
    },
    {
      "cell_type": "code",
      "metadata": {
        "id": "O6uG3bJgBQXD",
        "outputId": "02a1f17a-ca6c-40e2-e9ac-fcf31ddb7a49",
        "colab": {
          "base_uri": "https://localhost:8080/",
          "height": 35
        }
      },
      "source": [
        "%%writefile rightShift.c\n",
        "#include <stdio.h>\n",
        "\n",
        "int main(){\n",
        "    unsigned char a = 5, b = 9;  \n",
        "        \n",
        "    printf(\"a>>1 = %d\\n\", a >> 1); \n",
        "\n",
        "    printf(\"b>>1 = %d\\n\", b >> 1);  \n",
        "\n",
        "    return 0; \n",
        "}"
      ],
      "execution_count": 52,
      "outputs": [
        {
          "output_type": "stream",
          "text": [
            "Overwriting rightShift.c\n"
          ],
          "name": "stdout"
        }
      ]
    },
    {
      "cell_type": "code",
      "metadata": {
        "id": "GwUpOBoSBfTL",
        "outputId": "bde499be-281f-4ebd-9271-6734973fc99e",
        "colab": {
          "base_uri": "https://localhost:8080/",
          "height": 53
        }
      },
      "source": [
        "%%script bash\n",
        "gcc rightShift.c -o rightShift\n",
        "./rightShift"
      ],
      "execution_count": 53,
      "outputs": [
        {
          "output_type": "stream",
          "text": [
            "a>>1 = 2\n",
            "b>>1 = 4\n"
          ],
          "name": "stdout"
        }
      ]
    },
    {
      "cell_type": "markdown",
      "metadata": {
        "id": "RaZIPLbxvqRq"
      },
      "source": [
        "### Pre-increment and Post-increment"
      ]
    },
    {
      "cell_type": "markdown",
      "metadata": {
        "id": "qCg-5E5ivsDe"
      },
      "source": [
        "A **pre-increment operator** is used to increment the value of a variable before using it in a expression. In the Pre-increment, value is first incremented and then used inside the expression.\n",
        "\n",
        "  ```\n",
        "  a = ++x;\n",
        "  ```\n",
        "Here, if the value of `x` is 10 then value of `a` will be 11 because the value of `x` gets modified before using it in the expression.\n",
        "\n",
        "\n",
        "A **post-increment operator** is used to increment the value of variable after executing expression completely in which post increment is used. In the Post-increment, value is first used in a expression and then incremented.\n",
        "\n",
        "  ```\n",
        "  b = y++;\n",
        "  ```\n",
        "Here, suppose the value of `y` is 10 then value of variable `b` will be 10 because old value of `y` is used.\n",
        "\n",
        "The following code shows the pre-increment and post-increment in action. \n"
      ]
    },
    {
      "cell_type": "code",
      "metadata": {
        "id": "bQ9GZ1ZJwgPK",
        "outputId": "c144a519-0a99-43cd-a3de-36bdca2c7f55",
        "colab": {
          "base_uri": "https://localhost:8080/",
          "height": 35
        }
      },
      "source": [
        "%%writefile prePostIncr.c\n",
        "#include <stdio.h>\n",
        "\n",
        "int main(){\n",
        "    int a[5] = {5, 1, 15, 20, 25};\n",
        "    int i, j, m;\n",
        "    i = ++a[1];\n",
        "    j = a[1]++;\n",
        "    m = a[i++];\n",
        "    printf(\"%d, %d, %d\", i, j, m);\n",
        "    return 0;\n",
        "}"
      ],
      "execution_count": 54,
      "outputs": [
        {
          "output_type": "stream",
          "text": [
            "Overwriting prePostIncr.c\n"
          ],
          "name": "stdout"
        }
      ]
    },
    {
      "cell_type": "code",
      "metadata": {
        "id": "MRDWgTTowtLv",
        "outputId": "a0119ce1-696e-4f6d-82ae-52f80d226a51",
        "colab": {
          "base_uri": "https://localhost:8080/",
          "height": 35
        }
      },
      "source": [
        "%%script bash \n",
        "gcc prePostIncr.c -o prePostIncr\n",
        "./prePostIncr"
      ],
      "execution_count": 55,
      "outputs": [
        {
          "output_type": "stream",
          "text": [
            "3, 2, 15"
          ],
          "name": "stdout"
        }
      ]
    },
    {
      "cell_type": "markdown",
      "metadata": {
        "id": "4L_lwdRYO_fT"
      },
      "source": [
        "### Multiple Increment Operators inside printf"
      ]
    },
    {
      "cell_type": "markdown",
      "metadata": {
        "id": "rjt_YzXLPEhQ"
      },
      "source": [
        "Whenever more than one format specifiers (i.e `%d`) are directly or indirectly related with same variable (`i`, `i++`, `++i`), then we need to evaluate each individual expression from right to left.\n",
        "\n",
        "![sequence-of-operations](http://pics.c4learn.com/2013/08/Sequence-of-Printing-Evaluating-Expressions-in-Printf.png)\n",
        "\n",
        "For more details, click http://www.c4learn.com/c-programming/increment-operator-inside-printf/ \n",
        "\n",
        "The following code shows how multiple operations are handled. "
      ]
    },
    {
      "cell_type": "code",
      "metadata": {
        "id": "_S4vc0HZPuY0",
        "outputId": "a94c556e-3324-4c67-a359-06e8d22392b6",
        "colab": {
          "base_uri": "https://localhost:8080/",
          "height": 35
        }
      },
      "source": [
        "%%writefile multipleIncre.c\n",
        "#include <stdio.h>\n",
        "\n",
        "int main(){\n",
        "    int i = 1;\n",
        "    printf(\"%d %d %d\", i, ++i, i++);\n",
        "}"
      ],
      "execution_count": 56,
      "outputs": [
        {
          "output_type": "stream",
          "text": [
            "Overwriting multipleIncre.c\n"
          ],
          "name": "stdout"
        }
      ]
    },
    {
      "cell_type": "code",
      "metadata": {
        "id": "dvufse-mP5tB",
        "outputId": "c7401b7a-c52a-447b-8534-f021d709c9b9",
        "colab": {
          "base_uri": "https://localhost:8080/",
          "height": 35
        }
      },
      "source": [
        "%%script bash\n",
        "gcc multipleIncre.c -o multipleIncre\n",
        "./multipleIncre"
      ],
      "execution_count": 57,
      "outputs": [
        {
          "output_type": "stream",
          "text": [
            "3 3 1"
          ],
          "name": "stdout"
        }
      ]
    },
    {
      "cell_type": "markdown",
      "metadata": {
        "id": "4QPUZcj7Q40Z"
      },
      "source": [
        "Similarly, in the following code, the expressions are evaluated from right to left. "
      ]
    },
    {
      "cell_type": "code",
      "metadata": {
        "id": "jpJYbhs4Q4DA",
        "outputId": "5d94d9dc-500c-4e1f-adca-95aacc307401",
        "colab": {
          "base_uri": "https://localhost:8080/",
          "height": 35
        }
      },
      "source": [
        "%%writefile multiIncre.c\n",
        "#include <stdio.h>\n",
        "\n",
        "int main() {\n",
        "    int I = 0;\n",
        "    printf(\"%d %d\", I, I++);\n",
        "}"
      ],
      "execution_count": 58,
      "outputs": [
        {
          "output_type": "stream",
          "text": [
            "Overwriting multiIncre.c\n"
          ],
          "name": "stdout"
        }
      ]
    },
    {
      "cell_type": "code",
      "metadata": {
        "id": "k3NVatt7RLUg",
        "outputId": "fe4647d0-17f5-472f-92d0-39ac734e5240",
        "colab": {
          "base_uri": "https://localhost:8080/",
          "height": 35
        }
      },
      "source": [
        "%%script bash\n",
        "gcc multiIncre.c -o multiIncre\n",
        "./multiIncre"
      ],
      "execution_count": 59,
      "outputs": [
        {
          "output_type": "stream",
          "text": [
            "1 0"
          ],
          "name": "stdout"
        }
      ]
    },
    {
      "cell_type": "markdown",
      "metadata": {
        "id": "-QqeQIMgwe1D"
      },
      "source": [
        "### Operator Precedence"
      ]
    },
    {
      "cell_type": "markdown",
      "metadata": {
        "id": "tAFvp7dWwgnu"
      },
      "source": [
        "Among the operators `&&` (Logical AND), `=` (Assignment) and `?:` (Ternary or Conditional), `&&` has the highest priority. Therefore, the following code would produce a compile-time error. "
      ]
    },
    {
      "cell_type": "code",
      "metadata": {
        "id": "PQuUzDisw-4Q",
        "outputId": "6e5712ba-0fdf-43cd-a1f0-359e72b1dad4",
        "colab": {
          "base_uri": "https://localhost:8080/",
          "height": 35
        }
      },
      "source": [
        "%%writefile opsPre.c\n",
        "#include <stdio.h>\n",
        "\n",
        "int main() {\n",
        "     int a=12,n=20;\n",
        "     a=(a=5 && n=4?1:0);\n",
        "     printf(\"a=%d\\n\",a);\n",
        "     return 0;\n",
        "}"
      ],
      "execution_count": 60,
      "outputs": [
        {
          "output_type": "stream",
          "text": [
            "Overwriting opsPre.c\n"
          ],
          "name": "stdout"
        }
      ]
    },
    {
      "cell_type": "code",
      "metadata": {
        "id": "8ig-cLb1xZ2_",
        "outputId": "29e583cd-3985-4306-e0f8-cfc38e0d13dc",
        "colab": {
          "base_uri": "https://localhost:8080/",
          "height": 89
        }
      },
      "source": [
        "%%script bash\n",
        "gcc opsPre.c -o opsPre"
      ],
      "execution_count": 61,
      "outputs": [
        {
          "output_type": "stream",
          "text": [
            "opsPre.c: In function ‘main’:\n",
            "opsPre.c:5:17: error: lvalue required as left operand of assignment\n",
            "      a=(a=5 && n=4?1:0);\n",
            "                 ^\n"
          ],
          "name": "stderr"
        }
      ]
    },
    {
      "cell_type": "markdown",
      "metadata": {
        "id": "Z3mNwFEJxenr"
      },
      "source": [
        "Due to the operator precedence, the above expression becomes `(a=5 && n)=4`. But, this can't be evaluated because the value 4 needs a variable to be assigned on the left side of the `=` operator, but the expression `a=5 && n` would result either `1` or `0`. Hence, the error `lvalue required as left operand of assignment` is produced."
      ]
    },
    {
      "cell_type": "markdown",
      "metadata": {
        "id": "Cymbjf9WysI1"
      },
      "source": [
        "The priority of `*` and `/` is higher than `-` and `+`. Also, an operation between a `float` and an `int` results into a float. The following code shows this.   "
      ]
    },
    {
      "cell_type": "code",
      "metadata": {
        "id": "mQqkyq71zAco",
        "outputId": "b674613a-5f2f-4b97-e1f1-d86cff9816a9",
        "colab": {
          "base_uri": "https://localhost:8080/",
          "height": 35
        }
      },
      "source": [
        "%%writefile opsPrec.c\n",
        "#include <stdio.h>\n",
        "\n",
        "int main() {\n",
        "    float t= 4.2;\n",
        "    int i=3,a=4,n;\n",
        "    n= a * a / i + i / 2 * t + 2 + t;\n",
        "    printf(\"n=%d\\n\",n);\n",
        "    return 0;\n",
        "}"
      ],
      "execution_count": 62,
      "outputs": [
        {
          "output_type": "stream",
          "text": [
            "Overwriting opsPrec.c\n"
          ],
          "name": "stdout"
        }
      ]
    },
    {
      "cell_type": "code",
      "metadata": {
        "id": "vXCJW7QmzNEi",
        "outputId": "79dc28fd-36d0-4d00-afcc-b67918b9c3f7",
        "colab": {
          "base_uri": "https://localhost:8080/",
          "height": 35
        }
      },
      "source": [
        "%%script bash\n",
        "gcc opsPrec.c -o opsPrec\n",
        "./opsPrec"
      ],
      "execution_count": 63,
      "outputs": [
        {
          "output_type": "stream",
          "text": [
            "n=15\n"
          ],
          "name": "stdout"
        }
      ]
    },
    {
      "cell_type": "markdown",
      "metadata": {
        "id": "TL_JrYgxzbgj"
      },
      "source": [
        "In the above-mentioned code, the expression is evaluated after putting the values of variable as follows:- \n",
        "```\n",
        "n = (4 * 4) / 3 + 3 / 2 * 4.2 + 2 + 4.2; \n",
        "n = (16 / 3) + 3 / 2 * 4.2 + 2 + 4.2; \n",
        "n = 5 + (3 / 2) * 4.2 + 2 + 4.2; \n",
        "n = 5 + (1 * 4.2) + 2 + 4.2; \n",
        "n = (5 + 4.2)+ 2 + 4.2; \n",
        "n = (9.2 + 2)+ 4.2; \n",
        "n = 11.2 + 4.2; \n",
        "n = 15.4; \n",
        "```\n",
        "Since `n` is an integer type, when 15.4 is assigned to `n`, first it is demoted to integer value i.e 15 then gets stored in `n` i.e 15."
      ]
    },
    {
      "cell_type": "markdown",
      "metadata": {
        "id": "V7D71oEnKSQL"
      },
      "source": [
        "`&&` (Logical AND) has higher priority than `||` (Logical OR), as shown in the code below. "
      ]
    },
    {
      "cell_type": "code",
      "metadata": {
        "id": "e4Gj54KgKZcX",
        "outputId": "1272e059-b8f4-429a-8285-eb0df263be99",
        "colab": {
          "base_uri": "https://localhost:8080/",
          "height": 35
        }
      },
      "source": [
        "%%writefile opsPreced.c\n",
        "#include <stdio.h>\n",
        "\n",
        "int main() {\n",
        "     int i=-3, j=2, k=0, m;\n",
        "     m = ++i && ++j || ++k;\n",
        "     printf(\"%d, %d, %d, %d\\n\", i, j, k, m);\n",
        "     return 0;\n",
        "}"
      ],
      "execution_count": 64,
      "outputs": [
        {
          "output_type": "stream",
          "text": [
            "Overwriting opsPreced.c\n"
          ],
          "name": "stdout"
        }
      ]
    },
    {
      "cell_type": "code",
      "metadata": {
        "id": "LWwaUJ6HKmaB",
        "outputId": "f9c10181-c0a7-4543-d9e8-b73249ccb499",
        "colab": {
          "base_uri": "https://localhost:8080/",
          "height": 35
        }
      },
      "source": [
        "%%script bash\n",
        "gcc opsPreced.c -o opsPreced\n",
        "./opsPreced"
      ],
      "execution_count": 65,
      "outputs": [
        {
          "output_type": "stream",
          "text": [
            "-2, 3, 0, 1\n"
          ],
          "name": "stdout"
        }
      ]
    },
    {
      "cell_type": "markdown",
      "metadata": {
        "id": "AeA0St6BKzOz"
      },
      "source": [
        "In the above-mentioned program, `i` and `j` are initialized with -3 and 2 respectively. In the statement, `m = ++i && ++j || ++k`, `&&` has higher priority than `||`. So, `(++i && ++j)` is evaluated first where `i` and `j` gets incremented to -2 and 3 respectively. On applying `&&` operator, it evaluates to `TRUE` and is replaced by 1. As it returns `TRUE`, other side of `||` operator doesn't get tested. So, the value of `k` is not incremented and truth value of the expression i.e 1 gets stored in `m`.  "
      ]
    },
    {
      "cell_type": "markdown",
      "metadata": {
        "id": "48LPfPNZdudt"
      },
      "source": [
        "The following code shows how a ternary operator works. "
      ]
    },
    {
      "cell_type": "code",
      "metadata": {
        "id": "idGWPmo7d1Et",
        "outputId": "93440e73-c235-4c7a-e056-e2f0889a4539",
        "colab": {
          "base_uri": "https://localhost:8080/",
          "height": 35
        }
      },
      "source": [
        "%%writefile ternOpr.c\n",
        "#include <stdio.h>\n",
        "\n",
        "int main(){\n",
        "    int x=3, y=4, z=4;\n",
        "    printf(\"ans=%d\\n\",z>=y>=x ?10:20);\n",
        "    return 0;\n",
        "}"
      ],
      "execution_count": 66,
      "outputs": [
        {
          "output_type": "stream",
          "text": [
            "Overwriting ternOpr.c\n"
          ],
          "name": "stdout"
        }
      ]
    },
    {
      "cell_type": "code",
      "metadata": {
        "id": "wLBDQmIBd6qR",
        "outputId": "26db2cec-fd95-46c4-83cc-412dfe835231",
        "colab": {
          "base_uri": "https://localhost:8080/",
          "height": 35
        }
      },
      "source": [
        "%%script bash\n",
        "gcc ternOpr.c -o ternOpr\n",
        "./ternOpr"
      ],
      "execution_count": 67,
      "outputs": [
        {
          "output_type": "stream",
          "text": [
            "ans=20\n"
          ],
          "name": "stdout"
        }
      ]
    },
    {
      "cell_type": "markdown",
      "metadata": {
        "id": "pmMQ5lh2eGVH"
      },
      "source": [
        "In the above-mentioned program, in the `printf()` function, in the condition of ternary operator, at first the expression `z>=y` is evaluated. Since the values of `z` and `y` are equal, the condition evaluates to true and replaced with `1`. Now, the expression becomes `1>=x`. Since, the value of `x` is 3, the condition evaluates to false and 20 gets printed."
      ]
    },
    {
      "cell_type": "markdown",
      "metadata": {
        "id": "ayDxost5T0bp"
      },
      "source": [
        "### Nested Ternary Operator"
      ]
    },
    {
      "cell_type": "markdown",
      "metadata": {
        "id": "uXLtnORUT4EX"
      },
      "source": [
        "Ternary operator also known as conditional operator uses three operands to perform operation, as shown below. \n",
        "\n",
        "```\n",
        "op1 ? op2 : op3;\n",
        "```\n",
        "\n",
        "Ternary operator can be nested. For details, click https://www.geeksforgeeks.org/c-nested-ternary-operator/ \n",
        "\n",
        "A **nested ternary operator** can have many forms like:\n",
        "\n",
        "* `a ? b : c` - This ternary operator is similar to if-else statement. So it can be expressed in form of if-else statement, as given below:\n",
        "\n",
        "  ```\n",
        "  if ( a)  \n",
        "      then execute b\n",
        "  else \n",
        "      execute c\n",
        "  ```\n",
        "\n",
        "* `a ? b : c ? d : e ? f : g ? h : i` - This operator can be broken into if, else and else-if statement, as given below:\n",
        "\n",
        "  ```\n",
        "  if a then b\n",
        "  else if c then d\n",
        "  else if e then f\n",
        "  else if g then h\n",
        "  else i\n",
        "  ```\n",
        "\n",
        "* `a ? b ? c : d : e` - This can be written as given below: \n",
        "\n",
        "  ```\n",
        "  if ( a )\n",
        "    if ( b )\n",
        "        execute c\n",
        "    else \n",
        "        execute d\n",
        "  else \n",
        "    execute e\n",
        "  ```\n",
        "\n",
        "Following code shows the nested ternary operator in action. \n"
      ]
    },
    {
      "cell_type": "code",
      "metadata": {
        "id": "PEgU01pLVtws",
        "outputId": "cbee6f60-0c53-477f-c094-2e74f4e2a501",
        "colab": {
          "base_uri": "https://localhost:8080/",
          "height": 35
        }
      },
      "source": [
        "%%writefile nestedTern.c\n",
        "#include <stdio.h>\n",
        "\n",
        "int main() {\n",
        "    int b = 5, c = 15, d = 8, e = 8,a;\n",
        "    a = b > c ? c > d ? 12 : d > e ? 13 : 14 : 15;\n",
        "    printf(\"%d\", a);\n",
        "}"
      ],
      "execution_count": 68,
      "outputs": [
        {
          "output_type": "stream",
          "text": [
            "Overwriting nestedTern.c\n"
          ],
          "name": "stdout"
        }
      ]
    },
    {
      "cell_type": "code",
      "metadata": {
        "id": "YEu_FYO0V-li",
        "outputId": "4703ebdb-3876-44c0-879a-ce36888ad96b",
        "colab": {
          "base_uri": "https://localhost:8080/",
          "height": 35
        }
      },
      "source": [
        "%%script bash\n",
        "gcc nestedTern.c -o nestedTern\n",
        "./nestedTern"
      ],
      "execution_count": 69,
      "outputs": [
        {
          "output_type": "stream",
          "text": [
            "15"
          ],
          "name": "stdout"
        }
      ]
    },
    {
      "cell_type": "markdown",
      "metadata": {
        "id": "HEjIt8UtDFK5"
      },
      "source": [
        "## Structures "
      ]
    },
    {
      "cell_type": "markdown",
      "metadata": {
        "id": "Cw_LJHq2DGzf"
      },
      "source": [
        "A structure is a user defined data type in C/C++. A structure creates a data type that can be used to group items of possibly different types into a single type. For details, click https://www.geeksforgeeks.org/structures-c/ \n",
        "\n",
        "`struct` keyword is used to create a structure, as shown below.\n",
        "\n",
        "```\n",
        "struct address \n",
        "{ \n",
        "   char name[50]; \n",
        "   char street[100]; \n",
        "   char city[50]; \n",
        "   char state[20]; \n",
        "   int pin; \n",
        "};\n",
        "```\n",
        "Structure members cannot be initialized with declaration. For example the following C program fails in compilation.\n",
        "\n",
        "```\n",
        "struct Point \n",
        "{ \n",
        "   int x = 0;  // COMPILER ERROR:  cannot initialize members here \n",
        "   int y = 0;  // COMPILER ERROR:  cannot initialize members here \n",
        "};\n",
        "```\n",
        "The reason for above error is simple, when a datatype is declared, no memory is allocated for it. Memory is allocated only when variables are created."
      ]
    },
    {
      "cell_type": "markdown",
      "metadata": {
        "id": "FRp488woHBAz"
      },
      "source": [
        "### Accessing Structure Elements"
      ]
    },
    {
      "cell_type": "markdown",
      "metadata": {
        "id": "GLUDqHwUHE-H"
      },
      "source": [
        "Structure members are accessed using `.` operator. It is as shown below. "
      ]
    },
    {
      "cell_type": "code",
      "metadata": {
        "id": "FvCOu_lZHLMq",
        "outputId": "39621e4e-e0c3-483a-9dc2-918587f981f0",
        "colab": {
          "base_uri": "https://localhost:8080/",
          "height": 35
        }
      },
      "source": [
        "%%writefile strAccess.c\n",
        "#include <stdio.h>\n",
        "\n",
        "struct Point {\n",
        "    int x, y; \n",
        "}; \n",
        "\n",
        "int main(){\n",
        "    \n",
        "    struct Point p1 = {0, 1}; \n",
        "  \n",
        "    // Accessing members of point p1 \n",
        "    p1.x = 20; \n",
        "    printf (\"x = %d, y = %d\", p1.x, p1.y); \n",
        "  \n",
        "    return 0; \n",
        "    \n",
        "}"
      ],
      "execution_count": 70,
      "outputs": [
        {
          "output_type": "stream",
          "text": [
            "Overwriting strAccess.c\n"
          ],
          "name": "stdout"
        }
      ]
    },
    {
      "cell_type": "code",
      "metadata": {
        "id": "3zATRJRrHkbE",
        "outputId": "8aba0046-cda4-42b9-91ed-0819715f9a65",
        "colab": {
          "base_uri": "https://localhost:8080/",
          "height": 35
        }
      },
      "source": [
        "%%script bash\n",
        "gcc strAccess.c -o strAccess\n",
        "./strAccess"
      ],
      "execution_count": 71,
      "outputs": [
        {
          "output_type": "stream",
          "text": [
            "x = 20, y = 1"
          ],
          "name": "stdout"
        }
      ]
    },
    {
      "cell_type": "markdown",
      "metadata": {
        "id": "WEH0wkkUIBSo"
      },
      "source": [
        "Like primitive types, we can have pointer to a structure. If we have a pointer to structure, members are accessed using `->` operator. This is shown in the code given below. "
      ]
    },
    {
      "cell_type": "code",
      "metadata": {
        "id": "2wXLyly_IBj3",
        "outputId": "0a5f5c6a-10df-4b7f-e863-863bdf8c4849",
        "colab": {
          "base_uri": "https://localhost:8080/",
          "height": 35
        }
      },
      "source": [
        "%%writefile strAcc.c\n",
        "#include <stdio.h>\n",
        "\n",
        "struct Point {\n",
        "    int x, y; \n",
        "}; \n",
        "\n",
        "int main(){\n",
        "     struct Point p1 = {1, 2}; \n",
        "  \n",
        "     // p2 is a pointer to structure p1 \n",
        "     struct Point *p2 = &p1; \n",
        "    \n",
        "     // Accessing structure members using structure pointer \n",
        "     printf(\"%d %d \\n\", p2->x, p2->y); \n",
        "\n",
        "     // Accessing structure members via dereferencing \n",
        "     printf(\"%d %d\", (*p2).x, (*p2).y); \n",
        "     return 0; \n",
        "}"
      ],
      "execution_count": 72,
      "outputs": [
        {
          "output_type": "stream",
          "text": [
            "Overwriting strAcc.c\n"
          ],
          "name": "stdout"
        }
      ]
    },
    {
      "cell_type": "code",
      "metadata": {
        "id": "I8hs6WWqIAZX",
        "outputId": "c9e7bda0-df32-47ac-a5ad-ec24b20d53e4",
        "colab": {
          "base_uri": "https://localhost:8080/",
          "height": 53
        }
      },
      "source": [
        "%%script bash\n",
        "gcc strAcc.c -o strAcc\n",
        "./strAcc"
      ],
      "execution_count": 73,
      "outputs": [
        {
          "output_type": "stream",
          "text": [
            "1 2 \n",
            "1 2"
          ],
          "name": "stdout"
        }
      ]
    },
    {
      "cell_type": "markdown",
      "metadata": {
        "id": "exGEEQtd6Nom"
      },
      "source": [
        "## Unions "
      ]
    },
    {
      "cell_type": "markdown",
      "metadata": {
        "id": "XS-4Y8696Q0z"
      },
      "source": [
        "Like Structures, union is a user defined data type. In union, all members share the same memory location. We can define a union with many members, but only one member can contain a value at any given time.\n",
        "\n",
        "For example in the following C program, both `x` and `y` share the same location. If we change `x`, we can see the changes being reflected in `y`."
      ]
    },
    {
      "cell_type": "code",
      "metadata": {
        "id": "i4l1_MtU6lwC",
        "outputId": "c4fb1f6f-bc00-4ddb-d718-4e4cc40f2884",
        "colab": {
          "base_uri": "https://localhost:8080/",
          "height": 35
        }
      },
      "source": [
        "%%writefile union.c\n",
        "#include <stdio.h>\n",
        "\n",
        "union test { \n",
        "    int x, y; \n",
        "};\n",
        "\n",
        "int main() {\n",
        "    union test t; \n",
        "  \n",
        "    t.x = 2; // t.y also gets value 2 \n",
        "    printf(\"After making x = 2:\\n x = %d, y = %d\\n\\n\", t.x, t.y); \n",
        "  \n",
        "    t.y = 10; // t.x is also updated to 10 \n",
        "    printf(\"After making y = 10:\\n x = %d, y = %d\\n\\n\", t.x, t.y); \n",
        "    return 0; \n",
        "    \n",
        "}"
      ],
      "execution_count": 74,
      "outputs": [
        {
          "output_type": "stream",
          "text": [
            "Overwriting union.c\n"
          ],
          "name": "stdout"
        }
      ]
    },
    {
      "cell_type": "code",
      "metadata": {
        "id": "bDjBv-vP6-ST",
        "outputId": "9de720cf-bf17-4a2a-fdcc-f45ff48f1a6b",
        "colab": {
          "base_uri": "https://localhost:8080/",
          "height": 125
        }
      },
      "source": [
        "%%script bash \n",
        "gcc union.c -o union\n",
        "./union"
      ],
      "execution_count": 75,
      "outputs": [
        {
          "output_type": "stream",
          "text": [
            "After making x = 2:\n",
            " x = 2, y = 2\n",
            "\n",
            "After making y = 10:\n",
            " x = 10, y = 10\n",
            "\n"
          ],
          "name": "stdout"
        }
      ]
    },
    {
      "cell_type": "markdown",
      "metadata": {
        "id": "H8zwQBQu8CFe"
      },
      "source": [
        "Size of a union is taken according to the size of largest member in union."
      ]
    },
    {
      "cell_type": "code",
      "metadata": {
        "id": "jBhTNGmg7N6U",
        "outputId": "0e33e5cb-1606-4a9f-e08d-1fbef71687ba",
        "colab": {
          "base_uri": "https://localhost:8080/",
          "height": 35
        }
      },
      "source": [
        "%%writefile unionSize.c\n",
        "#include <stdio.h> \n",
        "  \n",
        "union test1 { \n",
        "    int x; \n",
        "    int y; \n",
        "}Test1; \n",
        "  \n",
        "union test2 { \n",
        "    int x; \n",
        "    char y; \n",
        "}Test2; \n",
        "  \n",
        "union test3 { \n",
        "    int arr[10]; \n",
        "    char y; \n",
        "}Test3; \n",
        "  \n",
        "int main() \n",
        "{ \n",
        "    printf(\"sizeof(test1) = %lu\\nsizeof(test2) = %lu\\n\"\n",
        "           \"sizeof(test3) = %lu\", \n",
        "           sizeof(Test1), \n",
        "           sizeof(Test2), sizeof(Test3)); \n",
        "    return 0; \n",
        "} "
      ],
      "execution_count": 76,
      "outputs": [
        {
          "output_type": "stream",
          "text": [
            "Overwriting unionSize.c\n"
          ],
          "name": "stdout"
        }
      ]
    },
    {
      "cell_type": "code",
      "metadata": {
        "id": "3kLGLitL7mAI",
        "outputId": "792b89c2-2563-4e34-bf48-1d77cc22c8bb",
        "colab": {
          "base_uri": "https://localhost:8080/",
          "height": 71
        }
      },
      "source": [
        "%%script bash \n",
        "gcc unionSize.c -o unionSize\n",
        "./unionSize"
      ],
      "execution_count": 77,
      "outputs": [
        {
          "output_type": "stream",
          "text": [
            "sizeof(test1) = 4\n",
            "sizeof(test2) = 4\n",
            "sizeof(test3) = 40"
          ],
          "name": "stdout"
        }
      ]
    },
    {
      "cell_type": "markdown",
      "metadata": {
        "id": "1rNjaaJ_8k65"
      },
      "source": [
        "### Accessing Union Members"
      ]
    },
    {
      "cell_type": "markdown",
      "metadata": {
        "id": "sUPOUm9V8oc5"
      },
      "source": [
        "To access any member of a union, we use the member access operator (`.`). The member access operator is coded as a period between the union variable name and the union member that we wish to access. We would use the keyword `union` to define variables of union type. The following example shows how to use unions in a program. "
      ]
    },
    {
      "cell_type": "code",
      "metadata": {
        "id": "LYXGHBX9801p",
        "outputId": "7f8688c2-fb7e-49eb-b6ba-9a4ee3203356",
        "colab": {
          "base_uri": "https://localhost:8080/",
          "height": 35
        }
      },
      "source": [
        "%%writefile unionAccess.c\n",
        "#include <stdio.h>\n",
        "#include <string.h>\n",
        " \n",
        "union Data {\n",
        "   int i;\n",
        "   float f;\n",
        "   char str[20];\n",
        "};\n",
        " \n",
        "int main( ) {\n",
        "\n",
        "   union Data data;   \n",
        "   printf(\"%lu\\n\", sizeof(data));     \n",
        "\n",
        "   data.i = 10;\n",
        "   data.f = 220.5;\n",
        "   strcpy(data.str, \"C Programming\");\n",
        "\n",
        "   printf( \"data.i : %d\\n\", data.i);\n",
        "   printf( \"data.f : %f\\n\", data.f);\n",
        "   printf( \"data.str : %s\\n\", data.str);\n",
        "\n",
        "   return 0;\n",
        "}"
      ],
      "execution_count": 78,
      "outputs": [
        {
          "output_type": "stream",
          "text": [
            "Overwriting unionAccess.c\n"
          ],
          "name": "stdout"
        }
      ]
    },
    {
      "cell_type": "code",
      "metadata": {
        "id": "c6V8SApL9JgI",
        "outputId": "b3a9fd04-e79e-4e3c-d7af-2d0904ffb64e",
        "colab": {
          "base_uri": "https://localhost:8080/",
          "height": 89
        }
      },
      "source": [
        "%%script bash\n",
        "gcc unionAccess.c -o unionAccess\n",
        "./unionAccess"
      ],
      "execution_count": 79,
      "outputs": [
        {
          "output_type": "stream",
          "text": [
            "20\n",
            "data.i : 1917853763\n",
            "data.f : 4122360580327794860452759994368.000000\n",
            "data.str : C Programming\n"
          ],
          "name": "stdout"
        }
      ]
    },
    {
      "cell_type": "markdown",
      "metadata": {
        "id": "9QM10tOf9aAH"
      },
      "source": [
        "In the above-mentioned program, we can see that the values of `i` and `f` members of union got corrupted because the final value assigned to the variable has occupied the memory location and this is the reason that the value of `str` member is getting printed very well.\n",
        "\n",
        "Now we will look into the same example once again (as given below), where we will use one variable at a time which is the main purpose of having unions. "
      ]
    },
    {
      "cell_type": "code",
      "metadata": {
        "id": "KEnnTLpv9Zre",
        "outputId": "4ab57a40-911f-4015-8f95-34e768177149",
        "colab": {
          "base_uri": "https://localhost:8080/",
          "height": 35
        }
      },
      "source": [
        "%%writefile unionAccessElems.c\n",
        "#include <stdio.h>\n",
        "#include <string.h>\n",
        " \n",
        "union Data {\n",
        "   int i;\n",
        "   float f;\n",
        "   char str[20];\n",
        "};\n",
        " \n",
        "int main( ) {\n",
        "\n",
        "   union Data data;   \n",
        "   printf(\"%lu\\n\", sizeof(data));     \n",
        "\n",
        "   data.i = 10;\n",
        "   printf( \"data.i : %d\\n\", data.i);\n",
        "\n",
        "   data.f = 220.5;\n",
        "   printf( \"data.f : %f\\n\", data.f);\n",
        "\n",
        "   strcpy(data.str, \"C Programming\");\n",
        "   printf( \"data.str : %s\\n\", data.str);\n",
        "\n",
        "\n",
        "   return 0;\n",
        "}"
      ],
      "execution_count": 80,
      "outputs": [
        {
          "output_type": "stream",
          "text": [
            "Overwriting unionAccessElems.c\n"
          ],
          "name": "stdout"
        }
      ]
    },
    {
      "cell_type": "code",
      "metadata": {
        "id": "W68RC-yE90Kg",
        "outputId": "db6e61ad-fdc3-4a6e-984f-1a01cd401620",
        "colab": {
          "base_uri": "https://localhost:8080/",
          "height": 89
        }
      },
      "source": [
        "%%script bash\n",
        "gcc unionAccessElems.c -o unionAccessElems\n",
        "./unionAccessElems"
      ],
      "execution_count": 81,
      "outputs": [
        {
          "output_type": "stream",
          "text": [
            "20\n",
            "data.i : 10\n",
            "data.f : 220.500000\n",
            "data.str : C Programming\n"
          ],
          "name": "stdout"
        }
      ]
    },
    {
      "cell_type": "markdown",
      "metadata": {
        "id": "1M1ndOt998do"
      },
      "source": [
        "In the above-mentioned program, all the members are getting printed very well because one member is being used at a time."
      ]
    },
    {
      "cell_type": "markdown",
      "metadata": {
        "id": "5yau0WgMB9xq"
      },
      "source": [
        "## Chasing The Bugs "
      ]
    },
    {
      "cell_type": "markdown",
      "metadata": {
        "id": "WNUQ_ox5CDLN"
      },
      "source": [
        "1. Omitting the ampersand before the variables used in `scanf()`: \n",
        "\n",
        "  For example,\n",
        "```\n",
        "int choice;\n",
        "scanf (\"%d\", choice); \n",
        "```\n",
        "\n",
        "  Here, the `&` before the variable `choice` is missing. Another\n",
        "common mistake with `scanf()` is to give blanks either just\n",
        "before the format string or immediately after the format string\n",
        "as in, \n",
        "\n",
        "  ```\n",
        "  int choice;\n",
        "  scanf (\" %d \", choice); \n",
        "  ```\n",
        "Note that this is not a mistake, but till you don't understand\n",
        "`scanf()` thoroughly, this is going to cause trouble. Safety is in\n",
        "eliminating the blanks. Thus, the correct form would be, \n",
        "\n",
        "  ```\n",
        "  int choice;\n",
        "  scanf (\"%d\", &choice); \n",
        "  ```\n",
        "\n"
      ]
    },
    {
      "cell_type": "markdown",
      "metadata": {
        "id": "OC4GKhvTDS2y"
      },
      "source": [
        "2. Ending a loop with a semicolon. \n",
        "\n",
        "  Observe the following program.\n",
        "\n",
        "  ```\n",
        "  main()\n",
        "  {\n",
        "  int j = 1 ;\n",
        "  while (j <= 100) ;\n",
        "  {\n",
        "  printf(\"\\nCompguard\") ;\n",
        "  j++ ;\n",
        "  }\n",
        "  } \n",
        "  ```\n",
        "\n",
        "  Inadvertently, we have fallen in an indefinite loop. Cause is\n",
        "the semicolon after while. This in effect makes the compiler\n",
        "feel that you wanted the loop to work in the following\n",
        "manner:\n",
        "```\n",
        "while (j <= 100) ;\n",
        "```\n",
        "This is an indefinite loop since `j` never gets incremented and\n",
        "hence eternally remains less that 100. "
      ]
    },
    {
      "cell_type": "markdown",
      "metadata": {
        "id": "8pZVgj84EIkI"
      },
      "source": [
        "3. Using `continue` in a `switch`.\n",
        "\n",
        "  It is a common error to believe that the way the keyword\n",
        "`break` is used with loops and a `switch`; similarly the keyword\n",
        "`continue` can also be used with them. Remember that\n",
        "`continue` works only with loops, never with a `switch`. "
      ]
    },
    {
      "cell_type": "markdown",
      "metadata": {
        "id": "c4QnEVdqFLys"
      },
      "source": [
        "4. Inserting a semicolon at the end of a macro definition. \n",
        "\n",
        "  How do you recognize a C programmer? Ask him to write a\n",
        "paragraph in English and watch whether he/she ends each\n",
        "sentence with a semicolon. This usually happens because a C\n",
        "programmer becomes habitual to ending all statements with a\n",
        "semicolon. However, a semicolon at the end of a macro\n",
        "definition might create a problem. For example, \n",
        "\n",
        "  ```\n",
        "  #define UPPER 25 ;\n",
        "  ```\n",
        "\n",
        "  would lead to a syntax error if used in an expression such as\n",
        "  ```\n",
        "  if (counter == UPPER)\n",
        "  ```\n",
        "  This is because on preprocessing, the `if` statement would take\n",
        "the form\n",
        "\n",
        "  ```\n",
        "  if (counter == 25 ;) \n",
        "  ```"
      ]
    },
    {
      "cell_type": "markdown",
      "metadata": {
        "id": "gS4uPu7gFyqN"
      },
      "source": [
        "5. Omitting parentheses around a macro expansion.\n",
        "```\n",
        "#define SQR(x) x * x\n",
        "main( )\n",
        "{\n",
        " int a ;\n",
        " a = 25 / SQR (5) ;\n",
        " printf (\"\\n%d\", a) ;\n",
        "}\n",
        "```\n",
        "In this example, we expect the value of `a` to be 1, whereas it\n",
        "turns out to be 25. This so happens because on preprocessing\n",
        "the arithmetic statement takes the following form:\n",
        "```\n",
        "a = 25 / 5 * 5 ; \n",
        "```"
      ]
    },
    {
      "cell_type": "markdown",
      "metadata": {
        "id": "vEqOxWSfGSKj"
      },
      "source": [
        "6. Leaving a blank space between the macro template and the\n",
        "macro expansion.\n",
        "```\n",
        "#define ABS (a) (a = 0 ? a : -a)\n",
        "```\n",
        "\n",
        "  Here, the space between `ABS` and `(a)` makes the preprocessor\n",
        "believe that you want to expand `ABS` into `(a)`, which is\n",
        "certainly not what you want. "
      ]
    },
    {
      "cell_type": "markdown",
      "metadata": {
        "id": "xLmZK6meHLFo"
      },
      "source": [
        "7. Confusing a character constant and a character string.\n",
        "\n",
        "  In the statement\n",
        "  ```\n",
        "  ch = 'z' ;\n",
        "  ```\n",
        "\n",
        "  a single character is assigned to ch. In the statement \n",
        "  ```\n",
        "  ch = \"z\" ;\n",
        "  ```\n",
        "  a pointer to the character string `\"z\"` is assigned to ch.\n",
        "\n",
        "  Note that in the first case, the declaration of ch would be,\n",
        "  ```\n",
        "  char ch ;\n",
        "  ```\n",
        "  whereas in the second case it would be,\n",
        "  ```\n",
        "  char *ch ;\n",
        "  ```"
      ]
    },
    {
      "cell_type": "markdown",
      "metadata": {
        "id": "DlsQoBNZHtn8"
      },
      "source": [
        "8. Forgetting to reserve an extra location in a character array for the  null terminator.\n",
        "\n",
        "  Remember each character array ends with a `'\\0'`, therefore its\n",
        "dimension should be declared big enough to hold the normal\n",
        "characters as well as the `'\\0'`.  \n",
        "\n",
        "  For example, the dimension of the array `word[ ]` should be 9\n",
        "  if a string `\"Jamboree\"` is to be stored in it. "
      ]
    },
    {
      "cell_type": "markdown",
      "metadata": {
        "id": "9ogxOnkpIm60"
      },
      "source": [
        "9. Confusing the precedences of the various operators.\n",
        "  ```\n",
        "  main( )\n",
        "  {\n",
        "  char ch ;\n",
        "  FILE *fp ;\n",
        "  fp = fopen ( \"text.c\", \"r\" ) ;\n",
        "  while ( ch = getc ( fp ) != EOF )\n",
        "  putch ( ch ) ;\n",
        "  fclose ( fp ) ;\n",
        "  }\n",
        "  ```\n",
        "\n",
        "  Here, the value returned by `getc( )` will be first compared with\n",
        "`EOF`, since `!=` has a higher priority than `=`. As a result, the\n",
        "value that is assigned to `ch` will be the true/false result of the\n",
        "test — 1 if the value returned by `getc( )` is not equal to `EOF`,\n",
        "and 0 otherwise. The correct form of the above while would\n",
        "be,\n",
        "\n",
        "  ```\n",
        "  while ( ( ch = getc ( fp ) ) != EOF )\n",
        "  putch ( ch ) ; \n",
        "  ```\n",
        "\n",
        "  Please note that `putch` print only one character at a time screen.\n",
        "\n"
      ]
    },
    {
      "cell_type": "markdown",
      "metadata": {
        "id": "I5d-c2jFJyMh"
      },
      "source": [
        "10. Confusing the operator `->` with the operator `.` while referring to a structure element.\n",
        "\n",
        "  Remember, on the left of the operator `.` only a structure\n",
        "variable can occur, whereas on the left of the operator `->` only\n",
        "a pointer to a structure can occur. Following example\n",
        "demonstrates this. \n",
        "\n",
        "  ```\n",
        "  #include <stdio.h>\n",
        "  int main( ) \n",
        "  {\n",
        "  struct emp\n",
        "  {\n",
        "  char name[35] ;\n",
        "  int age ;\n",
        "  } ;\n",
        "  struct emp e = { \"Dubhashi\", 40 } ;\n",
        "  struct emp *ee ;\n",
        "\n",
        "  printf ( \"\\n%d\", e.age ) ;\n",
        "  ee = &e ;\n",
        "  printf ( \"\\n%d\", ee->age ) ;\n",
        "  } \n",
        "```"
      ]
    },
    {
      "cell_type": "markdown",
      "metadata": {
        "id": "SH1eXgpqKiWh"
      },
      "source": [
        "11. Forgetting to use the `far` keyword for referring memory locations beyond the data segment.\n",
        "  ```\n",
        "  main( )\n",
        "  {\n",
        "  unsigned int *s ;\n",
        "  s = 0x413 ;\n",
        "  printf ( \"\\n%d\", *s ) ;\n",
        "  }\n",
        "```\n",
        "Here, it is necessary to use the keyword `far` in the declaration\n",
        "of variable `s`, since the address that we are storing in `s` `(0x413)` is a address of location present in BIOS Data Area, which is\n",
        "far away from the data segment. Thus, the correct declaration\n",
        "would look like,\n",
        "```\n",
        "unsigned int far *s ;\n",
        "```\n",
        "The far pointers are 4-byte pointers and are specific to DOS.\n",
        "Under Windows every pointer is 4-byte pointer. "
      ]
    },
    {
      "cell_type": "markdown",
      "metadata": {
        "id": "5e9Y8x4sK37P"
      },
      "source": [
        "12. Exceeding the range of integers and chars. \n",
        "  ```\n",
        "  main( )\n",
        "  {\n",
        "  char ch ;\n",
        "  for ( ch = 0 ; ch <= 255 ; ch++ )\n",
        "  printf ( \"\\n%c %d\", ch, ch ) ;\n",
        "  }\n",
        "  ```\n",
        "\n",
        "  Can you believe that this is an indefinite loop? Probably, a\n",
        "  closer look would confirm it. Reason is, `ch` has been declared\n",
        "  as a `char` and the valid range of `char` constant is -128 to\n",
        "  +127. Hence, the moment `ch` tries to become 128 (through\n",
        "  `ch++`), the value of character range is exceeded, therefore the\n",
        "  first number from the negative side of the range, -128, gets\n",
        "  assigned to `ch`. Naturally the condition is satisfied and the\n",
        "  control remains within the loop externally. "
      ]
    },
    {
      "cell_type": "markdown",
      "metadata": {
        "id": "Mpr2BMXOG9MA"
      },
      "source": [
        "## Mathworks MCQs"
      ]
    },
    {
      "cell_type": "markdown",
      "metadata": {
        "id": "j2nUPq7fHDeX"
      },
      "source": [
        "1. When does the **ArrayIndexOutOfBoundsException** occur?\n",
        "* Compile-time\n",
        "* **Run-time**\n",
        "* Not an error\n",
        "* Not an exception at all\n",
        "\n",
        "**ArrayIndexOutOfBoundsException** occurs when the index is either negative or greater than or equal to the size of the array. It is a run-time exception and the compilation is error-free. "
      ]
    },
    {
      "cell_type": "markdown",
      "metadata": {
        "id": "UEC8wgBjHTIH"
      },
      "source": [
        "2. In which stage during compilation **machine level code** is produced? \n",
        "* Preprocessing\n",
        "* Compiling\n",
        "* **Assembly**\n",
        "* Linking\n",
        "\n",
        "**Preprocessing** - The first stage of compilation is called preprocessing. In this stage, lines starting with a `#` character are interpreted by the preprocessor as preprocessor commands. When we preprocess a `C` source file, it will generate a file with an `.i` extension.\n",
        "\n",
        "**Compiling** - It takes in the temporary file from the preprocessing stage (with the `.i` extension). It translates the file into assembly language. It also checks the `C` language syntax for errors. When we compile it, it will generate a file with the extension `.s`. \n",
        "\n",
        "**Assembly** - It will take in the last code (`.s` extension file from compilation) and will translate it into low-level machine code.\n",
        "It will then generate a file with a `.o` extension. \n",
        "\n",
        "**Linking** - It will take in the `.o` extension file that was generated by the assembler. It will link the functions with their original definition so that the function `printf()` gets linked to its original definition. Then it will generate the executable file\n",
        "\n"
      ]
    },
    {
      "cell_type": "markdown",
      "metadata": {
        "id": "7xm4fouaJbIp"
      },
      "source": [
        "3. \n",
        "```\n",
        "struct s {\n",
        "  int i;\n",
        "  float f; \n",
        "}; \n",
        "```\n",
        "```\n",
        "union u {\n",
        "  int i; \n",
        "  float f; \n",
        "}\n",
        "```\n",
        "\n",
        "Which one of the following expressions is true?\n",
        "* **`sizeof(struct s) > sizeof(union u)`**\n",
        "* `sizeof(struct s) < sizeof(union u)`\n",
        "* `sizeof(struct s) == sizeof(union u)`\n",
        "* `sizeof(struct s) <= sizeof(union u)`\n",
        "\n",
        "Size of a union is taken according to the size of largest member in union. \n",
        "\n",
        "\n",
        "\n"
      ]
    },
    {
      "cell_type": "markdown",
      "metadata": {
        "id": "lDrUbcWrKd54"
      },
      "source": [
        "4.  In a binary max heap containing `n` numbers, the smallest element can be found in time \n",
        "* **`O(n)`**\n",
        "* `O(logn)`\n",
        "* `O(log logn)`\n",
        "* `O(1)`\n",
        "\n",
        "In a max heap, the smallest element is always present at a leaf node. So we need to check for all leaf nodes for the minimum value. Worst case complexity will be `O(n)`. \n",
        "\n",
        "Reference: https://www.geeksforgeeks.org/data-structures-and-algorithms-set-7/ "
      ]
    },
    {
      "cell_type": "markdown",
      "metadata": {
        "id": "aI0AW5rULL2p"
      },
      "source": [
        "5. Choose the correct statements:\n",
        "\n",
        "* SMTP (Simple Mail Transfer Protocol) is asynchronous protocol. \n",
        "* **HTTP (Hypertext Transfer Protocol) is stateless protocol.**\n",
        "* **POP3 (Post Office Protocol version 3) is stateful protocol.**\n",
        "* **FTP (File Transfer Protocol) is stateful protocol.**\n",
        "\n",
        "**Stateless Protocols** are the type of network protocols in which a Client sends request to the server and server responds back according to current state. It does not require the server to retain session information or a status about each communicating partner for multiple requests. In other words, a stateless protocol is a communications protocol that treats each request as an independent transaction that is unrelated to any previous request so that the communication consists of independent pairs of request and response. HTTP (Hypertext Transfer Protocol), UDP (User Datagram Protocol), DNS (Domain Name System) are the examples of Stateless Protocol.\n",
        "\n",
        "**Stateful Protocol** requires the server to save the status and session information. TCP is stateful as it maintains connection information across multiple transfers, but TCP is not an application layer protocol. Only FTP and POP3 are stateful application layer protocols.\n",
        "\n",
        "Reference: \n",
        "* https://www.geeksforgeeks.org/gate-gate-cs-2016-set-1-question-35/\n",
        "* https://www.geeksforgeeks.org/difference-between-stateless-and-stateful-protocol/ "
      ]
    },
    {
      "cell_type": "markdown",
      "metadata": {
        "id": "_C__DhntP7Pd"
      },
      "source": [
        "6. If there are 64 segments, each size 2048 bytes, then the logical address should have\n",
        "\n",
        "* 11 bits \n",
        "* 15 bits \n",
        "* 16 bits \n",
        "* **17 bits**\n",
        "\n",
        "2048 bytes = 2 $\\times$ 1024 bytes = $2 \\times 2^{10}$ bytes = $2^{11}$ bytes   \n",
        "\n",
        "Since $2^6 = 64$, 6 bits are required to specify a particular segment. \n",
        "\n",
        "Now, since $2048 = 2^{11}$, 11 more bits are required to select a particular byte after selecting a page. Therefore, the logical address should have 6 + 11 i.e. 17 bits. \n",
        "\n"
      ]
    },
    {
      "cell_type": "markdown",
      "metadata": {
        "id": "Z6rH32gSTZBw"
      },
      "source": [
        "7. What does the following function check for? (all necessary headers to be included and function is called from main)\n",
        "\n",
        "```\n",
        "#define MAX 10\n",
        " \n",
        "   typedef struct stack\n",
        "   {\n",
        "        int top;\n",
        "\t      int item[MAX];\n",
        "   }stack;\n",
        " \n",
        "   int function(stack *s)\n",
        "   {\n",
        "        if(s->top == -1)\n",
        "\t        return 1;\n",
        "\t      else return 0;\n",
        "   }\n",
        "```\n",
        "\n",
        "* full stack\n",
        "* invalid index\n",
        "* **empty stack**\n",
        "* infinite stack\n",
        "\n",
        "An empty stack is represented with the top-of-the-stack (`top` in this case) to be equal to `-1`. "
      ]
    },
    {
      "cell_type": "markdown",
      "metadata": {
        "id": "xI9nJMDwUTk9"
      },
      "source": [
        "8. What will be the output of the following code? "
      ]
    },
    {
      "cell_type": "code",
      "metadata": {
        "id": "5oMo5G41VetX",
        "outputId": "5c7e5059-31d7-4d0f-8c30-d4a222f55885",
        "colab": {
          "base_uri": "https://localhost:8080/",
          "height": 35
        }
      },
      "source": [
        "%%writefile structTest.c\n",
        "#include <stdio.h>\n",
        "\n",
        "void main() {\n",
        "    struct country {\n",
        "        char c; \n",
        "        float d;\n",
        "    }; \n",
        "\n",
        "    struct world {\n",
        "        int a[3]; \n",
        "        char b;\n",
        "        struct country India; \n",
        "    }; \n",
        "\n",
        "    struct world st = {{1, 2, 3}, 'P', 'q', 1.4}; \n",
        "    printf(\"%d\\t%c\\t%c\\t%f\", st.a[1], st.b, st.India.c, st.India.d); \n",
        "}"
      ],
      "execution_count": 82,
      "outputs": [
        {
          "output_type": "stream",
          "text": [
            "Overwriting structTest.c\n"
          ],
          "name": "stdout"
        }
      ]
    },
    {
      "cell_type": "code",
      "metadata": {
        "id": "csywhlghWbmu",
        "outputId": "510e99bb-abc2-4478-a77d-c7d6dbcaf983",
        "colab": {
          "base_uri": "https://localhost:8080/",
          "height": 35
        }
      },
      "source": [
        "%%script bash\n",
        "gcc structTest.c -o structTest\n",
        "./structTest"
      ],
      "execution_count": 83,
      "outputs": [
        {
          "output_type": "stream",
          "text": [
            "2\tP\tq\t1.400000"
          ],
          "name": "stdout"
        }
      ]
    },
    {
      "cell_type": "markdown",
      "metadata": {
        "id": "CtE5eyrPXOOM"
      },
      "source": [
        "If you define the structure inside `main()`, the scope is limited to `main()` only. Any other function cannot see that definition and hence, cannot make use of that structure definition."
      ]
    },
    {
      "cell_type": "markdown",
      "metadata": {
        "id": "u-jJF6QyXtTE"
      },
      "source": [
        "9. Predict the output of the following C program: "
      ]
    },
    {
      "cell_type": "code",
      "metadata": {
        "id": "y5ISCWh2X11A",
        "outputId": "8cdccbeb-be0f-4a6e-eb61-223a10f52f0e",
        "colab": {
          "base_uri": "https://localhost:8080/",
          "height": 35
        }
      },
      "source": [
        "%%writefile enumWeek.c\n",
        "#include <stdio.h>\n",
        "\n",
        "enum week {sunday, monday, tuesday = 20, wednesday = tuesday + 3, thursday, friday, saturday};\n",
        "\n",
        "int main() {\n",
        "    enum week today;\n",
        "\n",
        "    today = wednesday; \n",
        "\n",
        "    printf(\"%d %d %d\\n\", monday, today + 1, saturday + 2); \n",
        "    return 0; \n",
        "}"
      ],
      "execution_count": 84,
      "outputs": [
        {
          "output_type": "stream",
          "text": [
            "Overwriting enumWeek.c\n"
          ],
          "name": "stdout"
        }
      ]
    },
    {
      "cell_type": "code",
      "metadata": {
        "id": "fBdHGTd6Yv6v",
        "outputId": "adc84111-5385-4af8-d79e-2e7237d5881e",
        "colab": {
          "base_uri": "https://localhost:8080/",
          "height": 35
        }
      },
      "source": [
        "%%script bash \n",
        "gcc enumWeek.c -o enumWeek\n",
        "./enumWeek"
      ],
      "execution_count": 85,
      "outputs": [
        {
          "output_type": "stream",
          "text": [
            "1 24 28\n"
          ],
          "name": "stdout"
        }
      ]
    },
    {
      "cell_type": "markdown",
      "metadata": {
        "id": "BwZi7469ZAuK"
      },
      "source": [
        "10. What is the output of the following C program? **At prima facie, it appears that the following program will throw a ZeroDivisionError during run-time. However, it's not the case.**"
      ]
    },
    {
      "cell_type": "code",
      "metadata": {
        "id": "OKlVBJm2ZGUe",
        "outputId": "951e2574-20f7-44ed-f128-1e1cf4fd2155",
        "colab": {
          "base_uri": "https://localhost:8080/",
          "height": 35
        }
      },
      "source": [
        "%%writefile macroPre.c\n",
        "#include <stdio.h>\n",
        "\n",
        "#define ADD(x) x + x\n",
        "#define SUB(x) x - x\n",
        "\n",
        "int main() {\n",
        "    int y = ADD(3) / SUB(3);  \n",
        "    printf(\"%d\", ADD(y)); \n",
        "}"
      ],
      "execution_count": 86,
      "outputs": [
        {
          "output_type": "stream",
          "text": [
            "Overwriting macroPre.c\n"
          ],
          "name": "stdout"
        }
      ]
    },
    {
      "cell_type": "code",
      "metadata": {
        "id": "3B7hlR1ZZaDN",
        "outputId": "4c77b502-379e-4460-e3f2-62a3721ed6b5",
        "colab": {
          "base_uri": "https://localhost:8080/",
          "height": 35
        }
      },
      "source": [
        "%%script bash\n",
        "gcc macroPre.c -o macroPre\n",
        "./macroPre"
      ],
      "execution_count": 87,
      "outputs": [
        {
          "output_type": "stream",
          "text": [
            "2"
          ],
          "name": "stdout"
        }
      ]
    },
    {
      "cell_type": "markdown",
      "metadata": {
        "id": "j7arf-2Ev3xr"
      },
      "source": [
        "In the above mentioned program, value of `y` will be 3 + 3 / 3 - 3, as there is no parentheses in the definition of the macros. Let us see what happens if we add parentheses. "
      ]
    },
    {
      "cell_type": "code",
      "metadata": {
        "id": "iaoeO1GMwYXM",
        "outputId": "352334ff-ac42-4234-f614-67911d3fa5ab",
        "colab": {
          "base_uri": "https://localhost:8080/",
          "height": 35
        }
      },
      "source": [
        "%%writefile macroPrePa.c\n",
        "#include <stdio.h>\n",
        "\n",
        "#define ADD(x) (x + x)\n",
        "#define SUB(x) (x - x)\n",
        "\n",
        "int main() {\n",
        "    int y = ADD(3) / SUB(3);  \n",
        "    printf(\"%d\", ADD(y)); \n",
        "}"
      ],
      "execution_count": 88,
      "outputs": [
        {
          "output_type": "stream",
          "text": [
            "Overwriting macroPrePa.c\n"
          ],
          "name": "stdout"
        }
      ]
    },
    {
      "cell_type": "code",
      "metadata": {
        "id": "0STVci7zwf1y",
        "outputId": "d41941a8-1557-44c9-ce4f-fea44f517dd3",
        "colab": {
          "base_uri": "https://localhost:8080/",
          "height": 89
        }
      },
      "source": [
        "%%script bash\n",
        "gcc macroPrePa.c -o macroPrePa"
      ],
      "execution_count": 89,
      "outputs": [
        {
          "output_type": "stream",
          "text": [
            "macroPrePa.c: In function ‘main’:\n",
            "macroPrePa.c:7:20: warning: division by zero [-Wdiv-by-zero]\n",
            "     int y = ADD(3) / SUB(3);\n",
            "                    ^\n"
          ],
          "name": "stderr"
        }
      ]
    },
    {
      "cell_type": "markdown",
      "metadata": {
        "id": "RNZhNhY4ezVN"
      },
      "source": [
        "11. It is illegal to define a function within a structure in C++. State True or False. \n",
        "\n",
        "  It's **True** as you cannot define a function within a struct in C."
      ]
    },
    {
      "cell_type": "markdown",
      "metadata": {
        "id": "oJigsTh9fDTS"
      },
      "source": [
        "12. What is the output of the following program? \n",
        "\n",
        "```\n",
        "#include <iostream>\n",
        "\n",
        "using namespace std; \n",
        "\n",
        "main(){\n",
        "    int question = 'hard'; \n",
        "    if (question == 'hard'){\n",
        "        if (question =='hard') break; \n",
        "        cout << \"Not that hard\"; \n",
        "    }\n",
        "    cout << \"It's easy\"; \n",
        "}\n",
        "```\n",
        "\n",
        "* It's easy\n",
        "* Not that hard It's easy\n",
        "* Not that hard \n",
        "* **Compilation error**"
      ]
    },
    {
      "cell_type": "markdown",
      "metadata": {
        "id": "qZN_Y83X7GzD"
      },
      "source": [
        "## Amazon MCQs"
      ]
    },
    {
      "cell_type": "markdown",
      "metadata": {
        "id": "ZtNOSvLx7R0V"
      },
      "source": [
        "1. What will be the output of the following program? \n"
      ]
    },
    {
      "cell_type": "code",
      "metadata": {
        "id": "dCxcxGct7WIf",
        "outputId": "805e3866-4422-44e6-8f22-7928cf9129b5",
        "colab": {
          "base_uri": "https://localhost:8080/",
          "height": 35
        }
      },
      "source": [
        "%%writefile case.c\n",
        "#include <stdio.h>\n",
        "\n",
        "int main() {\n",
        "    int i = 3;\n",
        "    switch(i) {\n",
        "        default: printf(\"zero\"); \n",
        "        case 1: printf(\"one\");\n",
        "                break;\n",
        "        \n",
        "        case 2: printf(\"two\");\n",
        "                break;\n",
        "               \n",
        "        case 3: printf(\"three\");\n",
        "                break;\n",
        "    }\n",
        "    return 0; \n",
        "}"
      ],
      "execution_count": 90,
      "outputs": [
        {
          "output_type": "stream",
          "text": [
            "Overwriting case.c\n"
          ],
          "name": "stdout"
        }
      ]
    },
    {
      "cell_type": "code",
      "metadata": {
        "id": "HcfSciqx7zpz",
        "outputId": "2a42f801-157d-46df-8c9d-dbdc327720ca",
        "colab": {
          "base_uri": "https://localhost:8080/",
          "height": 35
        }
      },
      "source": [
        "%%script bash\n",
        "gcc case.c -o case\n",
        "./case"
      ],
      "execution_count": 91,
      "outputs": [
        {
          "output_type": "stream",
          "text": [
            "three"
          ],
          "name": "stdout"
        }
      ]
    },
    {
      "cell_type": "markdown",
      "metadata": {
        "id": "8gqEk0a2Hx2f"
      },
      "source": [
        "2. You have implemented a stack using two queues The stack should support push operation in `O(1)` time. How many enqueue/ dequeues operations on the queue are required to support the following sequence of stack operations?\n",
        "\n",
        "  ```\n",
        "  push(5); \n",
        "  push(6);\n",
        "  pop(); \n",
        "  push(3);\n",
        "  push(4);\n",
        "  pop(); \n",
        "  ```\n",
        "\n",
        "  * **7 enqueue 5 dequeue**\n",
        "  * 8 enqueue 6 dequeue\n",
        "  * 7 enqueue 6 dequeue\n",
        "  * 8 enqueue 5 dequeue\n",
        "\n",
        "\n",
        "  ![stack-queue](https://media.geeksforgeeks.org/wp-content/cdn-uploads/Stack-Queue.png)\n",
        "\n",
        "  A stack can be implemented using two queues by making either the push operation costly or the pop operation costly. For details, click https://www.geeksforgeeks.org/implement-stack-using-queue/ and https://www.youtube.com/watch?v=ww5Ac232WEU \n",
        "\n",
        "\n",
        "\n",
        "\n"
      ]
    },
    {
      "cell_type": "markdown",
      "metadata": {
        "id": "BGSokXNuNJzT"
      },
      "source": [
        "3. Assume x, y and z are floating point variables and they have been assigned the values x = 8.8, y = 3.5, z = -5.2. What will be the value of the arithmetic operation 2 * x / (3 * y) in C++? \n",
        "\n",
        "* 2 \n",
        "* 1.6 \n",
        "* **1.67619**\n",
        "* 0.67619\n",
        "\n"
      ]
    },
    {
      "cell_type": "code",
      "metadata": {
        "id": "6qEdkOkrNqYM",
        "outputId": "6f7c36a6-75cb-4c07-d8da-d9f09e3e7a5b",
        "colab": {
          "base_uri": "https://localhost:8080/",
          "height": 35
        }
      },
      "source": [
        "%%writefile arith.cpp\n",
        "#include <iostream>\n",
        "\n",
        "using namespace std;\n",
        "\n",
        "int main() {\n",
        "    float x = 8.8, y = 3.5, z = -5.2; \n",
        "    cout << 2 * x / (3 * y) << endl; \n",
        "    return 0; \n",
        "}"
      ],
      "execution_count": 92,
      "outputs": [
        {
          "output_type": "stream",
          "text": [
            "Overwriting arith.cpp\n"
          ],
          "name": "stdout"
        }
      ]
    },
    {
      "cell_type": "code",
      "metadata": {
        "id": "mMLfXBfKOHeS",
        "outputId": "98f25136-86b8-401d-8ab2-371f96981b07",
        "colab": {
          "base_uri": "https://localhost:8080/",
          "height": 35
        }
      },
      "source": [
        "%%script bash\n",
        "g++ arith.cpp -o arith\n",
        "./arith"
      ],
      "execution_count": 93,
      "outputs": [
        {
          "output_type": "stream",
          "text": [
            "1.67619\n"
          ],
          "name": "stdout"
        }
      ]
    },
    {
      "cell_type": "markdown",
      "metadata": {
        "id": "HK7FuELXPm58"
      },
      "source": [
        "4. What is the output of the following code snippet? "
      ]
    },
    {
      "cell_type": "code",
      "metadata": {
        "id": "4UaTyCMSP2wA",
        "outputId": "22159528-e899-4259-f844-a84bba5ded7b",
        "colab": {
          "base_uri": "https://localhost:8080/",
          "height": 35
        }
      },
      "source": [
        "%%writefile charascii.c\n",
        "#include <stdio.h>\n",
        "\n",
        "void main (){\n",
        "    int i; \n",
        "    char a[5] = {97, 99, 101, 103, 105};\n",
        "\n",
        "    for (i = 0; i < 5; i = i + 2) \n",
        "      printf(\"%c\", a[++i]);\n",
        "    printf(\", %d\", i); \n",
        "}"
      ],
      "execution_count": 94,
      "outputs": [
        {
          "output_type": "stream",
          "text": [
            "Overwriting charascii.c\n"
          ],
          "name": "stdout"
        }
      ]
    },
    {
      "cell_type": "code",
      "metadata": {
        "id": "4_i8XkCAQQkW",
        "outputId": "4e59c472-8dc6-4222-ce07-15a6bf263010",
        "colab": {
          "base_uri": "https://localhost:8080/",
          "height": 35
        }
      },
      "source": [
        "%%script bash\n",
        "gcc charascii.c -o charascii\n",
        "./charascii"
      ],
      "execution_count": 95,
      "outputs": [
        {
          "output_type": "stream",
          "text": [
            "ci, 6"
          ],
          "name": "stdout"
        }
      ]
    },
    {
      "cell_type": "markdown",
      "metadata": {
        "id": "o3_i1dKkQZmn"
      },
      "source": [
        "ASCII value of `A` is 65 and `a` is 97. "
      ]
    },
    {
      "cell_type": "markdown",
      "metadata": {
        "id": "8V46opRJRP1H"
      },
      "source": [
        "5. What is the output of the following code snippet?\n",
        "\n",
        "  ```\n",
        "  #include <stdio.h>\n",
        "\n",
        "  void main () {\n",
        "    int s [][2] = { {2 ,6}, {4, 8} }; \n",
        "    printf(\"%d\", s);\n",
        "  }\n",
        "  ```\n",
        "\n",
        "  * Displays: 2\n",
        "  * **Displays address of array s**\n",
        "  * Garbage value \n",
        "  * Compiler error \n"
      ]
    },
    {
      "cell_type": "code",
      "metadata": {
        "id": "-exl9FlaRXby",
        "outputId": "f95ad493-0907-4e8b-c1df-873a2c9e05aa",
        "colab": {
          "base_uri": "https://localhost:8080/",
          "height": 35
        }
      },
      "source": [
        "%%writefile address.c\n",
        "#include <stdio.h>\n",
        "\n",
        "void main () {\n",
        "    int s [][2] = { {2 ,6}, {4, 8} }; \n",
        "    printf(\"%d\", s);\n",
        "}"
      ],
      "execution_count": 96,
      "outputs": [
        {
          "output_type": "stream",
          "text": [
            "Overwriting address.c\n"
          ],
          "name": "stdout"
        }
      ]
    },
    {
      "cell_type": "code",
      "metadata": {
        "id": "yH7JL4rKR1dK",
        "outputId": "8fc4ef48-0f38-457a-da21-5ce843fbe9ef",
        "colab": {
          "base_uri": "https://localhost:8080/",
          "height": 89
        }
      },
      "source": [
        "%%script bash\n",
        "gcc address.c -o address\n",
        "./address"
      ],
      "execution_count": 97,
      "outputs": [
        {
          "output_type": "stream",
          "text": [
            "-984450512"
          ],
          "name": "stdout"
        },
        {
          "output_type": "stream",
          "text": [
            "address.c: In function ‘main’:\n",
            "address.c:5:14: warning: format ‘%d’ expects argument of type ‘int’, but argument 2 has type ‘int (*)[2]’ [-Wformat=]\n",
            "     printf(\"%d\", s);\n",
            "             ~^   ~\n"
          ],
          "name": "stderr"
        }
      ]
    },
    {
      "cell_type": "markdown",
      "metadata": {
        "id": "reFUUlLEjoC6"
      },
      "source": [
        "6. What is the output of the following program? \n",
        "  ```\n",
        "  #include <stdio.h>\n",
        "\n",
        "  int main () {\n",
        "      printf(3 + \"Andy\");\n",
        "      return 0; \n",
        "  }\n",
        "  ```\n",
        "\n",
        "  * Andy\n",
        "  * n\n",
        "  * **y**\n",
        "  * Compile-time error\n",
        "  * Run-time error \n",
        "\n"
      ]
    },
    {
      "cell_type": "code",
      "metadata": {
        "id": "e6Y_e1XSjxiy",
        "outputId": "458cc943-c130-4e52-db93-4f54c5890728",
        "colab": {
          "base_uri": "https://localhost:8080/",
          "height": 35
        }
      },
      "source": [
        "%%writefile andy.c\n",
        "#include <stdio.h>\n",
        "\n",
        "int main () {\n",
        "    printf(3 + \"Andy\");\n",
        "    return 0; \n",
        "}"
      ],
      "execution_count": 98,
      "outputs": [
        {
          "output_type": "stream",
          "text": [
            "Overwriting andy.c\n"
          ],
          "name": "stdout"
        }
      ]
    },
    {
      "cell_type": "code",
      "metadata": {
        "id": "EBNEqfa0j5Ts",
        "outputId": "26b777e6-964d-48a3-a15e-2f72996047f9",
        "colab": {
          "base_uri": "https://localhost:8080/",
          "height": 35
        }
      },
      "source": [
        "%%script bash\n",
        "gcc andy.c -o andy\n",
        "./andy"
      ],
      "execution_count": 99,
      "outputs": [
        {
          "output_type": "stream",
          "text": [
            "y"
          ],
          "name": "stdout"
        }
      ]
    },
    {
      "cell_type": "markdown",
      "metadata": {
        "id": "1c70ie1PlMGE"
      },
      "source": [
        "7. What is the output of the following program? \n",
        "\n",
        "  ```\n",
        "  #include \"stdio.h\"\n",
        "\n",
        "  int main() {\n",
        "    int i;\n",
        "    char x[] = \"\\0\";\n",
        "\n",
        "    if (printf(\"%s\\n\", x))\n",
        "      printf(\"Ok here \\n\");\n",
        "    else\n",
        "      printf(\"Forget it\\n\");\n",
        "  }\n",
        "  ```\n",
        "\n",
        "  * Forget it\n",
        "  * **Ok here**\n",
        "  * Error\n",
        "  * None of these \n",
        "\n",
        "  \n",
        "  If we intialize `char x[] = '\\0';` in this program, it would throw a compile-time error. "
      ]
    },
    {
      "cell_type": "code",
      "metadata": {
        "id": "v3L6xvGGlcbz",
        "outputId": "1da315d4-9935-41af-d2d2-13ba2008d8ec",
        "colab": {
          "base_uri": "https://localhost:8080/",
          "height": 35
        }
      },
      "source": [
        "%%writefile okay.c\n",
        "#include \"stdio.h\"\n",
        "\n",
        "int main() {\n",
        "  int i;\n",
        "  char x[] = \"\\0\";\n",
        "\n",
        "  if (printf(\"%s\\n\", x))\n",
        "    printf(\"Ok here \\n\");\n",
        "  else\n",
        "    printf(\"Forget it\\n\");\n",
        "}"
      ],
      "execution_count": 100,
      "outputs": [
        {
          "output_type": "stream",
          "text": [
            "Overwriting okay.c\n"
          ],
          "name": "stdout"
        }
      ]
    },
    {
      "cell_type": "code",
      "metadata": {
        "id": "uKicF1FKlguZ",
        "outputId": "1ebab975-382c-499e-f0e6-8bb654d7a6c4",
        "colab": {
          "base_uri": "https://localhost:8080/",
          "height": 53
        }
      },
      "source": [
        "%%script bash\n",
        "gcc okay.c -o okay\n",
        "./okay"
      ],
      "execution_count": 101,
      "outputs": [
        {
          "output_type": "stream",
          "text": [
            "\n",
            "Ok here \n"
          ],
          "name": "stdout"
        }
      ]
    },
    {
      "cell_type": "markdown",
      "metadata": {
        "id": "uUzuiOJ_luie"
      },
      "source": [
        "What values do the `printf()` and `scanf()` functions return ?\n",
        "\n",
        "* `printf()` : It returns the total number of characters printed, Or negative value if an output error or an encoding error. \n",
        "\n",
        "* `scanf()` : It returns total number of inputs scanned successfully, or EOF if input failure occurs before the first receiving argument was assigned.\n",
        "\n",
        "For details, click https://www.geeksforgeeks.org/return-values-of-printf-and-scanf-in-c-cpp/ "
      ]
    },
    {
      "cell_type": "markdown",
      "metadata": {
        "id": "BbcjcjXQ9iJg"
      },
      "source": [
        "8. What will be the value of `i` when the following code is run?\n",
        "\n",
        "  ```\n",
        "  #include <iostream>\n",
        "  using namespace std;\n",
        "\n",
        "  int main() {\n",
        "    int i = 0;\n",
        "    char a[2] = {char()};\n",
        "    a[i++] = ++i;\n",
        "    cout << i;\n",
        "    return 0;\n",
        "  }\n",
        "  ```\n",
        "\n",
        "  * **2**\n",
        "  * 1\n",
        "  * 3\n",
        "  * Undefined \n",
        "\n"
      ]
    },
    {
      "cell_type": "markdown",
      "metadata": {
        "id": "MNp_kpZLBKCp"
      },
      "source": [
        "9. In `C++`, which of the following statements about the following program is true? \n",
        "\n",
        "  ```\n",
        "  i = (j = 4) + (k = 9);\n",
        "  ```\n",
        "\n",
        "  * **It assigns a value 13 to `i`.** \n",
        "  * It assigns a value 4 to `i`.\n",
        "  * It gives an error message. \n",
        "  * It assigns a value 7 to `i`. \n",
        "\n",
        "\n",
        "\n",
        "\n"
      ]
    },
    {
      "cell_type": "code",
      "metadata": {
        "id": "MoA_vyNnB16Z",
        "outputId": "92bf8623-a2d5-4853-fa7c-04632879314b",
        "colab": {
          "base_uri": "https://localhost:8080/",
          "height": 35
        }
      },
      "source": [
        "%%writefile assign.cpp\n",
        "#include <iostream>\n",
        "using namespace std;\n",
        "int main() {\n",
        "  int i, j, k;\n",
        "\n",
        "  i = (j = 4) + (k = 9);\n",
        "\n",
        "  cout << i << endl;\n",
        "\n",
        "  cout << i << \" \" << j << \" \" << k;  \n",
        "}"
      ],
      "execution_count": 102,
      "outputs": [
        {
          "output_type": "stream",
          "text": [
            "Overwriting assign.cpp\n"
          ],
          "name": "stdout"
        }
      ]
    },
    {
      "cell_type": "code",
      "metadata": {
        "id": "gXwU3lw1CELr",
        "outputId": "93ea46b7-81aa-4c5b-a346-950422dec4ca",
        "colab": {
          "base_uri": "https://localhost:8080/",
          "height": 53
        }
      },
      "source": [
        "%%script bash\n",
        "g++ assign.cpp -o assign\n",
        "./assign"
      ],
      "execution_count": 103,
      "outputs": [
        {
          "output_type": "stream",
          "text": [
            "13\n",
            "13 4 9"
          ],
          "name": "stdout"
        }
      ]
    },
    {
      "cell_type": "markdown",
      "metadata": {
        "id": "e3jg93w2DviR"
      },
      "source": [
        "10. Identify the output of following code snippet in C++\n",
        "\n",
        "  ```\n",
        "  #include <iostream>\n",
        "  using namespace std;\n",
        "  int main() {\n",
        "    switch(10) {\n",
        "      case 10:\n",
        "      cout << \"1\" << endl;\n",
        "      break;\n",
        "\n",
        "      case 10:\n",
        "      cout << \"2\" << endl;\n",
        "    }\n",
        "  }\n",
        "  ```\n",
        "\n",
        "  * 1\n",
        "  * 1\n",
        "      \n",
        "      2\n",
        "  * 2\n",
        "  * **Error: Duplicate case value**\n",
        "\n"
      ]
    },
    {
      "cell_type": "code",
      "metadata": {
        "id": "ZxLcfgiAEXv0",
        "outputId": "5607af5c-aa10-414b-9ed2-66338c701f89",
        "colab": {
          "base_uri": "https://localhost:8080/",
          "height": 35
        }
      },
      "source": [
        "%%writefile casecase.cpp\n",
        "#include <iostream>\n",
        "  using namespace std;\n",
        "  int main() {\n",
        "    switch(10) {\n",
        "      case 10:\n",
        "      cout << \"1\" << endl;\n",
        "      break;\n",
        "\n",
        "      case 10:\n",
        "      cout << \"2\" << endl;\n",
        "    }\n",
        "  }"
      ],
      "execution_count": 104,
      "outputs": [
        {
          "output_type": "stream",
          "text": [
            "Overwriting casecase.cpp\n"
          ],
          "name": "stdout"
        }
      ]
    },
    {
      "cell_type": "code",
      "metadata": {
        "id": "629KOAGeEhEE",
        "outputId": "270b22da-5ca8-47a9-b037-93b5c6293c80",
        "colab": {
          "base_uri": "https://localhost:8080/",
          "height": 143
        }
      },
      "source": [
        "%%script bash\n",
        "g++ casecase.cpp -o casecase"
      ],
      "execution_count": 105,
      "outputs": [
        {
          "output_type": "stream",
          "text": [
            "casecase.cpp: In function ‘int main()’:\n",
            "casecase.cpp:9:7: error: duplicate case value\n",
            "       case 10:\n",
            "       ^~~~\n",
            "casecase.cpp:5:7: note: previously used here\n",
            "       case 10:\n",
            "       ^~~~\n"
          ],
          "name": "stderr"
        }
      ]
    }
  ]
}